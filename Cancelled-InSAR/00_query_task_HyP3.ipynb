{
 "cells": [
  {
   "cell_type": "markdown",
   "id": "a297b67d",
   "metadata": {},
   "source": [
    "<center><img src=\"header.png\" width = \"800\"/></center>"
   ]
  },
  {
   "cell_type": "markdown",
   "id": "c9a35da0",
   "metadata": {},
   "source": [
    "### <b> InSAR Coherent Change Detection over Aleppo, Syria (April 17-29, 2016)\n",
    "    \n",
    "<b><i> Corey Scher<sup>1</sup>\n",
    "<i>Jamon Van Den Hoek<sup>2</sup>\n",
    "    \n",
    "<i><font size=2> 1. Department of Earth and Environmental Sciences | Graduate Center at the City University of New York\n",
    "    \n",
    "<i><font size=2> 2. College of Earth, Ocean, and Atmospheric Sciences | Oregon State University"
   ]
  },
  {
   "cell_type": "markdown",
   "id": "cd02bd1c-0ca9-4884-b557-ac221429c264",
   "metadata": {},
   "source": [
    "<span style=\"font-size: 16pt\"> **Part one**: query and task the ASF Vertex platform using the [HyP3 Python SDK](https://hyp3-docs.asf.alaska.edu/using/sdk_api/) </span>"
   ]
  },
  {
   "cell_type": "markdown",
   "id": "5dcc8c73",
   "metadata": {},
   "source": [
    "### Introduction\n",
    "\n",
    "   In this training we will walk through an example of bi-temporal coherent change detection over Aleppo, Syria to map proxies for urban damage that occurred as a result of air bombardments over a two week period in April 2016. We will be using the [Alaska Satellite Facility's](https://asf.alaska.edu/) [Vertex tool](https://search.asf.alaska.edu/#/) to generate two synthetic aperture radar [interferogram](https://appliedsciences.nasa.gov/sites/default/files/Session4-SAR-English_0.pdf) (InSAR) datasets to look for anomalous decreases in InSAR measurements of [coherence](https://en.wikipedia.org/wiki/Coherence_(physics) that occurred following a series of airstrike bombardments. This workflow can be completed either using the ASF [Hyp3 Python SDK](https://hyp3-docs.asf.alaska.edu/), as we will demonstrate in this notebook, or by generating InSAR coherence images manually using the ASF Vertex [user interface](https://search.asf.alaska.edu/#/) and raster band math in a geographic information system interface, such as [QGIS](https://www.qgis.org/en/site/)."
   ]
  },
  {
   "cell_type": "code",
   "execution_count": 42,
   "id": "2872f707",
   "metadata": {},
   "outputs": [],
   "source": [
    "import os\n",
    "import folium\n",
    "#import rioxarray\n",
    "import shapely.wkt\n",
    "import pandas as pd\n",
    "import xarray as xr\n",
    "import geopandas as gpd\n",
    "import asf_search as asf\n",
    "from hyp3_sdk import HyP3\n",
    "import shapely.geometry as shp\n",
    "import matplotlib.pyplot as plt"
   ]
  },
  {
   "cell_type": "code",
   "execution_count": 43,
   "id": "38c290fd-d17c-40d1-9096-0603ed8bf989",
   "metadata": {},
   "outputs": [],
   "source": [
    "# Make our pandas plots interactive\n",
    "pd.options.plotting.backend = \"plotly\""
   ]
  },
  {
   "cell_type": "code",
   "execution_count": 5,
   "id": "0d9d6de4",
   "metadata": {},
   "outputs": [],
   "source": [
    "#Define and area of interest as WKT over Aleppo, Syria\n",
    "aoi = shapely.wkt.loads(\"POLYGON((37.0072 36.091, \\\n",
    "                        37.3326 36.091,37.3326 36.3183, \\\n",
    "                        37.0072 36.3183,37.0072 36.091))\")\n",
    "\n",
    "# Translate to geojson for quick addition to interactrive Folium maps\n",
    "geo_j = folium.GeoJson(data=gpd.GeoSeries(aoi).to_json())"
   ]
  },
  {
   "cell_type": "code",
   "execution_count": 6,
   "id": "3ab584c8",
   "metadata": {},
   "outputs": [],
   "source": [
    "# Import credentials from .config file\n",
    "# The .config file is omitted from GitHub. \n",
    "# You can simply skip this step and enter your ASF Vertex username and password directly in the next cell\n",
    "\n",
    "credentials = pd.read_csv('/Users/coreyscher/Documents/GitHub/arset/hyp3.config', \n",
    "                          header = None, \n",
    "                          names = ['names', 'values']).set_index('names')"
   ]
  },
  {
   "cell_type": "code",
   "execution_count": 7,
   "id": "0d8fe9a1",
   "metadata": {},
   "outputs": [],
   "source": [
    "# Authenticate to Hyp3 \n",
    "hyp3 = HyP3(username=credentials.loc['username'][0], \n",
    "            password=credentials.loc['password'][0])"
   ]
  },
  {
   "cell_type": "code",
   "execution_count": 8,
   "id": "1c46d83d",
   "metadata": {
    "tags": []
   },
   "outputs": [],
   "source": [
    "# Let's define a bounding box area with well known text\n",
    "\n",
    "wkt = \"POLYGON((37.0072 36.091,37.3326 36.091,37.3326 36.3183,37.0072 36.3183,37.0072 36.091))\"\n",
    "\n",
    "# Search ASF vertex for Sentinel-1 SLC scenesover the WKT region, \n",
    "# Return only 100 results until April 18, 2016\n",
    "results = asf.geo_search(platform=[asf.PLATFORM.SENTINEL1], \n",
    "                         intersectsWith=wkt, \n",
    "                         maxResults=10,\n",
    "                        processingLevel = 'SLC',\n",
    "                        end = '2016-04-18').data\n"
   ]
  },
  {
   "cell_type": "code",
   "execution_count": 12,
   "id": "0d209e16",
   "metadata": {},
   "outputs": [],
   "source": [
    "# Function to translate Sentinel-1 swath footprint text into a shapely polygon and return alongside the fileID\n",
    "\n",
    "def addFootprint(result):\n",
    "    props = result.properties\n",
    "    date = pd.to_datetime(props['startTime'])\n",
    "    footprint = shp.Polygon(result.geometry['coordinates'][0])\n",
    "    fid = props['fileID']\n",
    "    \n",
    "    return fid, footprint"
   ]
  },
  {
   "cell_type": "code",
   "execution_count": 13,
   "id": "c56b6f08",
   "metadata": {},
   "outputs": [],
   "source": [
    "# Map the function to create a list of footprints and file IDs\n",
    "# Turn that list into a dataframe for easy indexing\n",
    "\n",
    "gdf = gpd.GeoDataFrame(list(map(addFootprint, results)), \n",
    "                       columns = ['fileID',  'geometry'])\n"
   ]
  },
  {
   "cell_type": "code",
   "execution_count": 44,
   "id": "ae259bb3",
   "metadata": {},
   "outputs": [
    {
     "data": {
      "text/html": [
       "<div style=\"width:100%;\"><div style=\"position:relative;width:100%;height:0;padding-bottom:60%;\"><span style=\"color:#565656\">Make this Notebook Trusted to load map: File -> Trust Notebook</span><iframe srcdoc=\"&lt;!DOCTYPE html&gt;\n",
       "&lt;head&gt;    \n",
       "    &lt;meta http-equiv=&quot;content-type&quot; content=&quot;text/html; charset=UTF-8&quot; /&gt;\n",
       "    \n",
       "        &lt;script&gt;\n",
       "            L_NO_TOUCH = false;\n",
       "            L_DISABLE_3D = false;\n",
       "        &lt;/script&gt;\n",
       "    \n",
       "    &lt;style&gt;html, body {width: 100%;height: 100%;margin: 0;padding: 0;}&lt;/style&gt;\n",
       "    &lt;style&gt;#map {position:absolute;top:0;bottom:0;right:0;left:0;}&lt;/style&gt;\n",
       "    &lt;script src=&quot;https://cdn.jsdelivr.net/npm/leaflet@1.6.0/dist/leaflet.js&quot;&gt;&lt;/script&gt;\n",
       "    &lt;script src=&quot;https://code.jquery.com/jquery-1.12.4.min.js&quot;&gt;&lt;/script&gt;\n",
       "    &lt;script src=&quot;https://maxcdn.bootstrapcdn.com/bootstrap/3.2.0/js/bootstrap.min.js&quot;&gt;&lt;/script&gt;\n",
       "    &lt;script src=&quot;https://cdnjs.cloudflare.com/ajax/libs/Leaflet.awesome-markers/2.0.2/leaflet.awesome-markers.js&quot;&gt;&lt;/script&gt;\n",
       "    &lt;link rel=&quot;stylesheet&quot; href=&quot;https://cdn.jsdelivr.net/npm/leaflet@1.6.0/dist/leaflet.css&quot;/&gt;\n",
       "    &lt;link rel=&quot;stylesheet&quot; href=&quot;https://maxcdn.bootstrapcdn.com/bootstrap/3.2.0/css/bootstrap.min.css&quot;/&gt;\n",
       "    &lt;link rel=&quot;stylesheet&quot; href=&quot;https://maxcdn.bootstrapcdn.com/bootstrap/3.2.0/css/bootstrap-theme.min.css&quot;/&gt;\n",
       "    &lt;link rel=&quot;stylesheet&quot; href=&quot;https://maxcdn.bootstrapcdn.com/font-awesome/4.6.3/css/font-awesome.min.css&quot;/&gt;\n",
       "    &lt;link rel=&quot;stylesheet&quot; href=&quot;https://cdnjs.cloudflare.com/ajax/libs/Leaflet.awesome-markers/2.0.2/leaflet.awesome-markers.css&quot;/&gt;\n",
       "    &lt;link rel=&quot;stylesheet&quot; href=&quot;https://cdn.jsdelivr.net/gh/python-visualization/folium/folium/templates/leaflet.awesome.rotate.min.css&quot;/&gt;\n",
       "    \n",
       "            &lt;meta name=&quot;viewport&quot; content=&quot;width=device-width,\n",
       "                initial-scale=1.0, maximum-scale=1.0, user-scalable=no&quot; /&gt;\n",
       "            &lt;style&gt;\n",
       "                #map_82248c0e0ac6b42394e37a082c3cf85c {\n",
       "                    position: relative;\n",
       "                    width: 100.0%;\n",
       "                    height: 100.0%;\n",
       "                    left: 0.0%;\n",
       "                    top: 0.0%;\n",
       "                }\n",
       "            &lt;/style&gt;\n",
       "        \n",
       "    \n",
       "                    &lt;style&gt;\n",
       "                        .foliumtooltip {\n",
       "                            \n",
       "                        }\n",
       "                       .foliumtooltip table{\n",
       "                            margin: auto;\n",
       "                        }\n",
       "                        .foliumtooltip tr{\n",
       "                            text-align: left;\n",
       "                        }\n",
       "                        .foliumtooltip th{\n",
       "                            padding: 2px; padding-right: 8px;\n",
       "                        }\n",
       "                    &lt;/style&gt;\n",
       "            \n",
       "    \n",
       "    &lt;script src=&quot;https://code.jquery.com/ui/1.12.1/jquery-ui.js&quot;&gt;&lt;/script&gt;\n",
       "    &lt;script&gt;$( function() {\n",
       "        $( &quot;.maplegend&quot; ).draggable({\n",
       "            start: function (event, ui) {\n",
       "                $(this).css({\n",
       "                    right: &quot;auto&quot;,\n",
       "                    top: &quot;auto&quot;,\n",
       "                    bottom: &quot;auto&quot;\n",
       "                });\n",
       "            }\n",
       "        });\n",
       "    });\n",
       "    &lt;/script&gt;\n",
       "    &lt;style type=&#x27;text/css&#x27;&gt;\n",
       "      .maplegend {\n",
       "        position: absolute;\n",
       "        z-index:9999;\n",
       "        background-color: rgba(255, 255, 255, .8);\n",
       "        border-radius: 5px;\n",
       "        box-shadow: 0 0 15px rgba(0,0,0,0.2);\n",
       "        padding: 10px;\n",
       "        font: 12px/14px Arial, Helvetica, sans-serif;\n",
       "        right: 10px;\n",
       "        bottom: 20px;\n",
       "      }\n",
       "      .maplegend .legend-title {\n",
       "        text-align: left;\n",
       "        margin-bottom: 5px;\n",
       "        font-weight: bold;\n",
       "        }\n",
       "      .maplegend .legend-scale ul {\n",
       "        margin: 0;\n",
       "        margin-bottom: 0px;\n",
       "        padding: 0;\n",
       "        float: left;\n",
       "        list-style: none;\n",
       "        }\n",
       "      .maplegend .legend-scale ul li {\n",
       "        list-style: none;\n",
       "        margin-left: 0;\n",
       "        line-height: 16px;\n",
       "        margin-bottom: 2px;\n",
       "        }\n",
       "      .maplegend ul.legend-labels li span {\n",
       "        display: block;\n",
       "        float: left;\n",
       "        height: 14px;\n",
       "        width: 14px;\n",
       "        margin-right: 5px;\n",
       "        margin-left: 0;\n",
       "        border: 0px solid #ccc;\n",
       "        }\n",
       "      .maplegend .legend-source {\n",
       "        color: #777;\n",
       "        clear: both;\n",
       "        }\n",
       "      .maplegend a {\n",
       "        color: #777;\n",
       "        }\n",
       "    &lt;/style&gt;\n",
       "    \n",
       "&lt;/head&gt;\n",
       "&lt;body&gt;    \n",
       "    \n",
       "    &lt;div id=&#x27;maplegend fileID&#x27; class=&#x27;maplegend&#x27;&gt;\n",
       "        &lt;div class=&#x27;legend-title&#x27;&gt;fileID&lt;/div&gt;\n",
       "        &lt;div class=&#x27;legend-scale&#x27;&gt;\n",
       "            &lt;ul class=&#x27;legend-labels&#x27;&gt;\n",
       "                &lt;li&gt;&lt;span style=&#x27;background:#1f77b4&#x27;&gt;&lt;/span&gt;S1A_IW_SLC__1SDV_20160410T153323_20160410T153350_010761_01011A_B2DA-SLC&lt;/li&gt;\n",
       "                &lt;li&gt;&lt;span style=&#x27;background:#8c564b&#x27;&gt;&lt;/span&gt;S1A_IW_SLC__1SDV_20160411T033413_20160411T033440_010768_010158_E980-SLC&lt;/li&gt;\n",
       "                &lt;li&gt;&lt;span style=&#x27;background:#9edae5&#x27;&gt;&lt;/span&gt;S1A_IW_SLC__1SDV_20160417T152456_20160417T152523_010863_010427_F968-SLC&lt;/li&gt;\n",
       "            &lt;/ul&gt;\n",
       "        &lt;/div&gt;\n",
       "    &lt;/div&gt;\n",
       "    \n",
       "    \n",
       "            &lt;div class=&quot;folium-map&quot; id=&quot;map_82248c0e0ac6b42394e37a082c3cf85c&quot; &gt;&lt;/div&gt;\n",
       "        \n",
       "&lt;/body&gt;\n",
       "&lt;script&gt;    \n",
       "    \n",
       "            var map_82248c0e0ac6b42394e37a082c3cf85c = L.map(\n",
       "                &quot;map_82248c0e0ac6b42394e37a082c3cf85c&quot;,\n",
       "                {\n",
       "                    center: [36.207522, 37.154076],\n",
       "                    crs: L.CRS.EPSG3857,\n",
       "                    zoom: 7,\n",
       "                    zoomControl: true,\n",
       "                    preferCanvas: false,\n",
       "                }\n",
       "            );\n",
       "\n",
       "            \n",
       "\n",
       "        \n",
       "    \n",
       "            var tile_layer_6316356ec404e6edb47aa93d72096b3a = L.tileLayer(\n",
       "                &quot;https://cartodb-basemaps-{s}.global.ssl.fastly.net/light_all/{z}/{x}/{y}.png&quot;,\n",
       "                {&quot;attribution&quot;: &quot;\\u0026copy; \\u003ca href=\\&quot;http://www.openstreetmap.org/copyright\\&quot;\\u003eOpenStreetMap\\u003c/a\\u003e contributors \\u0026copy; \\u003ca href=\\&quot;http://cartodb.com/attributions\\&quot;\\u003eCartoDB\\u003c/a\\u003e, CartoDB \\u003ca href =\\&quot;http://cartodb.com/attributions\\&quot;\\u003eattributions\\u003c/a\\u003e&quot;, &quot;detectRetina&quot;: false, &quot;maxNativeZoom&quot;: 18, &quot;maxZoom&quot;: 18, &quot;minZoom&quot;: 0, &quot;noWrap&quot;: false, &quot;opacity&quot;: 1, &quot;subdomains&quot;: &quot;abc&quot;, &quot;tms&quot;: false}\n",
       "            ).addTo(map_82248c0e0ac6b42394e37a082c3cf85c);\n",
       "        \n",
       "    \n",
       "\n",
       "        function geo_json_3753eba716127d0b54c6ce901e156edf_onEachFeature(feature, layer) {\n",
       "            layer.on({\n",
       "            });\n",
       "        };\n",
       "        var geo_json_3753eba716127d0b54c6ce901e156edf = L.geoJson(null, {\n",
       "                onEachFeature: geo_json_3753eba716127d0b54c6ce901e156edf_onEachFeature,\n",
       "            \n",
       "        });\n",
       "\n",
       "        function geo_json_3753eba716127d0b54c6ce901e156edf_add (data) {\n",
       "            geo_json_3753eba716127d0b54c6ce901e156edf\n",
       "                .addData(data)\n",
       "                .addTo(map_82248c0e0ac6b42394e37a082c3cf85c);\n",
       "        }\n",
       "            geo_json_3753eba716127d0b54c6ce901e156edf_add({&quot;bbox&quot;: [37.0072, 36.091, 37.3326, 36.3183], &quot;features&quot;: [{&quot;bbox&quot;: [37.0072, 36.091, 37.3326, 36.3183], &quot;geometry&quot;: {&quot;coordinates&quot;: [[[37.0072, 36.091], [37.3326, 36.091], [37.3326, 36.3183], [37.0072, 36.3183], [37.0072, 36.091]]], &quot;type&quot;: &quot;Polygon&quot;}, &quot;id&quot;: &quot;0&quot;, &quot;properties&quot;: {}, &quot;type&quot;: &quot;Feature&quot;}], &quot;type&quot;: &quot;FeatureCollection&quot;});\n",
       "\n",
       "        \n",
       "    \n",
       "        function geo_json_70844db233c63259b7b55eff23e46526_styler(feature) {\n",
       "            switch(feature.id) {\n",
       "                case &quot;1&quot;: \n",
       "                    return {&quot;color&quot;: &quot;#8c564b&quot;, &quot;fill&quot;: false, &quot;fillColor&quot;: &quot;#8c564b&quot;, &quot;fillOpacity&quot;: 0.5, &quot;opacity&quot;: 1, &quot;weight&quot;: 2};\n",
       "                case &quot;2&quot;: \n",
       "                    return {&quot;color&quot;: &quot;#1f77b4&quot;, &quot;fill&quot;: false, &quot;fillColor&quot;: &quot;#1f77b4&quot;, &quot;fillOpacity&quot;: 0.5, &quot;opacity&quot;: 1, &quot;weight&quot;: 2};\n",
       "                default:\n",
       "                    return {&quot;color&quot;: &quot;#9edae5&quot;, &quot;fill&quot;: false, &quot;fillColor&quot;: &quot;#9edae5&quot;, &quot;fillOpacity&quot;: 0.5, &quot;opacity&quot;: 1, &quot;weight&quot;: 2};\n",
       "            }\n",
       "        }\n",
       "        function geo_json_70844db233c63259b7b55eff23e46526_highlighter(feature) {\n",
       "            switch(feature.id) {\n",
       "                default:\n",
       "                    return {&quot;fillOpacity&quot;: 0.75};\n",
       "            }\n",
       "        }\n",
       "        function geo_json_70844db233c63259b7b55eff23e46526_pointToLayer(feature, latlng) {\n",
       "            var opts = {&quot;bubblingMouseEvents&quot;: true, &quot;color&quot;: &quot;#3388ff&quot;, &quot;dashArray&quot;: null, &quot;dashOffset&quot;: null, &quot;fill&quot;: true, &quot;fillColor&quot;: &quot;#3388ff&quot;, &quot;fillOpacity&quot;: 0.2, &quot;fillRule&quot;: &quot;evenodd&quot;, &quot;lineCap&quot;: &quot;round&quot;, &quot;lineJoin&quot;: &quot;round&quot;, &quot;opacity&quot;: 1.0, &quot;radius&quot;: 2, &quot;stroke&quot;: true, &quot;weight&quot;: 3};\n",
       "            \n",
       "            let style = geo_json_70844db233c63259b7b55eff23e46526_styler(feature)\n",
       "            Object.assign(opts, style)\n",
       "            \n",
       "            return new L.CircleMarker(latlng, opts)\n",
       "        }\n",
       "\n",
       "        function geo_json_70844db233c63259b7b55eff23e46526_onEachFeature(feature, layer) {\n",
       "            layer.on({\n",
       "                mouseout: function(e) {\n",
       "                    if(typeof e.target.setStyle === &quot;function&quot;){\n",
       "                        geo_json_70844db233c63259b7b55eff23e46526.resetStyle(e.target);\n",
       "                    }\n",
       "                },\n",
       "                mouseover: function(e) {\n",
       "                    if(typeof e.target.setStyle === &quot;function&quot;){\n",
       "                        const highlightStyle = geo_json_70844db233c63259b7b55eff23e46526_highlighter(e.target.feature)\n",
       "                        e.target.setStyle(highlightStyle);\n",
       "                    }\n",
       "                },\n",
       "            });\n",
       "        };\n",
       "        var geo_json_70844db233c63259b7b55eff23e46526 = L.geoJson(null, {\n",
       "                onEachFeature: geo_json_70844db233c63259b7b55eff23e46526_onEachFeature,\n",
       "            \n",
       "                style: geo_json_70844db233c63259b7b55eff23e46526_styler,\n",
       "                pointToLayer: geo_json_70844db233c63259b7b55eff23e46526_pointToLayer\n",
       "        });\n",
       "\n",
       "        function geo_json_70844db233c63259b7b55eff23e46526_add (data) {\n",
       "            geo_json_70844db233c63259b7b55eff23e46526\n",
       "                .addData(data)\n",
       "                .addTo(map_82248c0e0ac6b42394e37a082c3cf85c);\n",
       "        }\n",
       "            geo_json_70844db233c63259b7b55eff23e46526_add({&quot;bbox&quot;: [34.620155, 34.91198, 40.019367, 37.704617], &quot;features&quot;: [{&quot;bbox&quot;: [36.870792, 34.91198, 40.019367, 36.935032], &quot;geometry&quot;: {&quot;coordinates&quot;: [[[39.69199, 36.935032], [40.019367, 35.314594], [37.25774, 34.91198], [36.870792, 36.534081], [39.69199, 36.935032]]], &quot;type&quot;: &quot;Polygon&quot;}, &quot;id&quot;: &quot;0&quot;, &quot;properties&quot;: {&quot;__folium_color&quot;: &quot;#9edae5&quot;, &quot;fileID&quot;: &quot;S1A_IW_SLC__1SDV_20160417T152456_20160417T152523_010863_010427_F968-SLC&quot;}, &quot;type&quot;: &quot;Feature&quot;}, {&quot;bbox&quot;: [35.433262, 35.288773, 38.610645, 37.320435], &quot;geometry&quot;: {&quot;coordinates&quot;: [[[35.433262, 35.692326], [35.762569, 37.320435], [38.610645, 36.918522], [38.22015, 35.288773], [35.433262, 35.692326]]], &quot;type&quot;: &quot;Polygon&quot;}, &quot;id&quot;: &quot;1&quot;, &quot;properties&quot;: {&quot;__folium_color&quot;: &quot;#8c564b&quot;, &quot;fileID&quot;: &quot;S1A_IW_SLC__1SDV_20160411T033413_20160411T033440_010768_010158_E980-SLC&quot;}, &quot;type&quot;: &quot;Feature&quot;}, {&quot;bbox&quot;: [34.620155, 35.682438, 37.803074, 37.704617], &quot;geometry&quot;: {&quot;coordinates&quot;: [[[37.473984, 37.704617], [37.803074, 36.084736], [35.011143, 35.682438], [34.620155, 37.303844], [37.473984, 37.704617]]], &quot;type&quot;: &quot;Polygon&quot;}, &quot;id&quot;: &quot;2&quot;, &quot;properties&quot;: {&quot;__folium_color&quot;: &quot;#1f77b4&quot;, &quot;fileID&quot;: &quot;S1A_IW_SLC__1SDV_20160410T153323_20160410T153350_010761_01011A_B2DA-SLC&quot;}, &quot;type&quot;: &quot;Feature&quot;}], &quot;type&quot;: &quot;FeatureCollection&quot;});\n",
       "\n",
       "        \n",
       "    \n",
       "    geo_json_70844db233c63259b7b55eff23e46526.bindTooltip(\n",
       "    function(layer){\n",
       "    let div = L.DomUtil.create(&#x27;div&#x27;);\n",
       "    \n",
       "    let handleObject = feature=&gt;typeof(feature)==&#x27;object&#x27; ? JSON.stringify(feature) : feature;\n",
       "    let fields = [&quot;fileID&quot;];\n",
       "    let aliases = [&quot;fileID&quot;];\n",
       "    let table = &#x27;&lt;table&gt;&#x27; +\n",
       "        String(\n",
       "        fields.map(\n",
       "        (v,i)=&gt;\n",
       "        `&lt;tr&gt;\n",
       "            &lt;th&gt;${aliases[i]}&lt;/th&gt;\n",
       "            \n",
       "            &lt;td&gt;${handleObject(layer.feature.properties[v])}&lt;/td&gt;\n",
       "        &lt;/tr&gt;`).join(&#x27;&#x27;))\n",
       "    +&#x27;&lt;/table&gt;&#x27;;\n",
       "    div.innerHTML=table;\n",
       "    \n",
       "    return div\n",
       "    }\n",
       "    ,{&quot;className&quot;: &quot;foliumtooltip&quot;, &quot;sticky&quot;: true});\n",
       "                     \n",
       "&lt;/script&gt;\" style=\"position:absolute;width:100%;height:100%;left:0;top:0;border:none !important;\" allowfullscreen webkitallowfullscreen mozallowfullscreen></iframe></div></div>"
      ],
      "text/plain": [
       "<folium.folium.Map at 0x16a97f7f0>"
      ]
     },
     "execution_count": 44,
     "metadata": {},
     "output_type": "execute_result"
    }
   ],
   "source": [
    "# Create a Folium map centered over Aleppo\n",
    "mapa = folium.Map([36.207522, 37.154076],\n",
    "                 #Specify a zoom level\n",
    "                  zoom_start=7,\n",
    "                #Specify a basemap\n",
    "                  tiles='cartodbpositron')\n",
    "\n",
    "#Add the geo_json of our are of interest to the map\n",
    "geo_j.add_to(mapa)\n",
    "\n",
    "# Plot the first five images to choose a reference scene\n",
    "gdf.iloc[:3].explore(m = mapa, \n",
    "            column = 'fileID',\n",
    "           style_kwds = {'opacity': 1, 'fill': False})"
   ]
  },
  {
   "cell_type": "code",
   "execution_count": 26,
   "id": "fe0a8f97",
   "metadata": {},
   "outputs": [
    {
     "name": "stdout",
     "output_type": "stream",
     "text": [
      "fileID      S1A_IW_SLC__1SDV_20160417T152456_20160417T1525...\n",
      "geometry    POLYGON ((39.69199 36.935032, 40.019367 35.314...\n",
      "Name: 0, dtype: object\n"
     ]
    }
   ],
   "source": [
    "# Let's choose the scene acquired on August 27, 2016 as a reference\n",
    "reference_scene = gdf.iloc[0]\n",
    "\n",
    "# Print out the scene ID to make sure it's the right one!\n",
    "print(reference_scene)\n",
    "\n",
    "# We can use this ID to generate an InSAR stack with the ASF tools \n",
    "insar_stack  = asf.stack_from_id(reference_scene['fileID'])"
   ]
  },
  {
   "cell_type": "code",
   "execution_count": 50,
   "id": "b5c45d23",
   "metadata": {},
   "outputs": [],
   "source": [
    "# We are going to pick secondary SAR scenes based on temporal baseline\n",
    "# of about 8 weeks relative to the reference from August 21, 2016.\n",
    "# Quickly calculate a list of temporal baselines and print\n",
    "# We will use this list to iterate over our InSAR stack and \n",
    "# pick two of the pairs for InSAR processing\n",
    "\n",
    "temp_baselines = []\n",
    "for i in insar_stack:\n",
    "    tempBaseline = i.properties['temporalBaseline']\n",
    "    days = int(tempBaseline)\n",
    "    temp_baselines.append([tempBaseline, days, i.properties['fileID']])\n",
    "\n",
    "temp_baselines = pd.DataFrame(temp_baselines, columns = ['tempBasline', 'days', 'fileID']).set_index('days')\n",
    "\n"
   ]
  },
  {
   "cell_type": "code",
   "execution_count": 55,
   "id": "4ba8ecc5-4241-4c0d-838c-d0919f63135d",
   "metadata": {},
   "outputs": [
    {
     "data": {
      "application/vnd.plotly.v1+json": {
       "config": {
        "plotlyServerURL": "https://plot.ly"
       },
       "data": [
        {
         "hovertemplate": "variable=fileID<br>days=%{x}<br>value=%{y}<extra></extra>",
         "legendgroup": "fileID",
         "marker": {
          "color": "#636efa",
          "symbol": "circle"
         },
         "mode": "markers",
         "name": "fileID",
         "orientation": "v",
         "showlegend": true,
         "type": "scatter",
         "x": [
          -12,
          0,
          12
         ],
         "xaxis": "x",
         "y": [
          "S1A_IW_SLC__1SDV_20160405T152456_20160405T152523_010688_00FEEC_83E1-SLC",
          "S1A_IW_SLC__1SDV_20160417T152456_20160417T152523_010863_010427_F968-SLC",
          "S1A_IW_SLC__1SDV_20160429T152457_20160429T152524_011038_0109A3_C646-SLC"
         ],
         "yaxis": "y"
        }
       ],
       "layout": {
        "autosize": true,
        "legend": {
         "title": {
          "text": "variable"
         },
         "tracegroupgap": 0
        },
        "margin": {
         "t": 60
        },
        "template": {
         "data": {
          "bar": [
           {
            "error_x": {
             "color": "#2a3f5f"
            },
            "error_y": {
             "color": "#2a3f5f"
            },
            "marker": {
             "line": {
              "color": "#E5ECF6",
              "width": 0.5
             },
             "pattern": {
              "fillmode": "overlay",
              "size": 10,
              "solidity": 0.2
             }
            },
            "type": "bar"
           }
          ],
          "barpolar": [
           {
            "marker": {
             "line": {
              "color": "#E5ECF6",
              "width": 0.5
             },
             "pattern": {
              "fillmode": "overlay",
              "size": 10,
              "solidity": 0.2
             }
            },
            "type": "barpolar"
           }
          ],
          "carpet": [
           {
            "aaxis": {
             "endlinecolor": "#2a3f5f",
             "gridcolor": "white",
             "linecolor": "white",
             "minorgridcolor": "white",
             "startlinecolor": "#2a3f5f"
            },
            "baxis": {
             "endlinecolor": "#2a3f5f",
             "gridcolor": "white",
             "linecolor": "white",
             "minorgridcolor": "white",
             "startlinecolor": "#2a3f5f"
            },
            "type": "carpet"
           }
          ],
          "choropleth": [
           {
            "colorbar": {
             "outlinewidth": 0,
             "ticks": ""
            },
            "type": "choropleth"
           }
          ],
          "contour": [
           {
            "colorbar": {
             "outlinewidth": 0,
             "ticks": ""
            },
            "colorscale": [
             [
              0,
              "#0d0887"
             ],
             [
              0.1111111111111111,
              "#46039f"
             ],
             [
              0.2222222222222222,
              "#7201a8"
             ],
             [
              0.3333333333333333,
              "#9c179e"
             ],
             [
              0.4444444444444444,
              "#bd3786"
             ],
             [
              0.5555555555555556,
              "#d8576b"
             ],
             [
              0.6666666666666666,
              "#ed7953"
             ],
             [
              0.7777777777777778,
              "#fb9f3a"
             ],
             [
              0.8888888888888888,
              "#fdca26"
             ],
             [
              1,
              "#f0f921"
             ]
            ],
            "type": "contour"
           }
          ],
          "contourcarpet": [
           {
            "colorbar": {
             "outlinewidth": 0,
             "ticks": ""
            },
            "type": "contourcarpet"
           }
          ],
          "heatmap": [
           {
            "colorbar": {
             "outlinewidth": 0,
             "ticks": ""
            },
            "colorscale": [
             [
              0,
              "#0d0887"
             ],
             [
              0.1111111111111111,
              "#46039f"
             ],
             [
              0.2222222222222222,
              "#7201a8"
             ],
             [
              0.3333333333333333,
              "#9c179e"
             ],
             [
              0.4444444444444444,
              "#bd3786"
             ],
             [
              0.5555555555555556,
              "#d8576b"
             ],
             [
              0.6666666666666666,
              "#ed7953"
             ],
             [
              0.7777777777777778,
              "#fb9f3a"
             ],
             [
              0.8888888888888888,
              "#fdca26"
             ],
             [
              1,
              "#f0f921"
             ]
            ],
            "type": "heatmap"
           }
          ],
          "heatmapgl": [
           {
            "colorbar": {
             "outlinewidth": 0,
             "ticks": ""
            },
            "colorscale": [
             [
              0,
              "#0d0887"
             ],
             [
              0.1111111111111111,
              "#46039f"
             ],
             [
              0.2222222222222222,
              "#7201a8"
             ],
             [
              0.3333333333333333,
              "#9c179e"
             ],
             [
              0.4444444444444444,
              "#bd3786"
             ],
             [
              0.5555555555555556,
              "#d8576b"
             ],
             [
              0.6666666666666666,
              "#ed7953"
             ],
             [
              0.7777777777777778,
              "#fb9f3a"
             ],
             [
              0.8888888888888888,
              "#fdca26"
             ],
             [
              1,
              "#f0f921"
             ]
            ],
            "type": "heatmapgl"
           }
          ],
          "histogram": [
           {
            "marker": {
             "pattern": {
              "fillmode": "overlay",
              "size": 10,
              "solidity": 0.2
             }
            },
            "type": "histogram"
           }
          ],
          "histogram2d": [
           {
            "colorbar": {
             "outlinewidth": 0,
             "ticks": ""
            },
            "colorscale": [
             [
              0,
              "#0d0887"
             ],
             [
              0.1111111111111111,
              "#46039f"
             ],
             [
              0.2222222222222222,
              "#7201a8"
             ],
             [
              0.3333333333333333,
              "#9c179e"
             ],
             [
              0.4444444444444444,
              "#bd3786"
             ],
             [
              0.5555555555555556,
              "#d8576b"
             ],
             [
              0.6666666666666666,
              "#ed7953"
             ],
             [
              0.7777777777777778,
              "#fb9f3a"
             ],
             [
              0.8888888888888888,
              "#fdca26"
             ],
             [
              1,
              "#f0f921"
             ]
            ],
            "type": "histogram2d"
           }
          ],
          "histogram2dcontour": [
           {
            "colorbar": {
             "outlinewidth": 0,
             "ticks": ""
            },
            "colorscale": [
             [
              0,
              "#0d0887"
             ],
             [
              0.1111111111111111,
              "#46039f"
             ],
             [
              0.2222222222222222,
              "#7201a8"
             ],
             [
              0.3333333333333333,
              "#9c179e"
             ],
             [
              0.4444444444444444,
              "#bd3786"
             ],
             [
              0.5555555555555556,
              "#d8576b"
             ],
             [
              0.6666666666666666,
              "#ed7953"
             ],
             [
              0.7777777777777778,
              "#fb9f3a"
             ],
             [
              0.8888888888888888,
              "#fdca26"
             ],
             [
              1,
              "#f0f921"
             ]
            ],
            "type": "histogram2dcontour"
           }
          ],
          "mesh3d": [
           {
            "colorbar": {
             "outlinewidth": 0,
             "ticks": ""
            },
            "type": "mesh3d"
           }
          ],
          "parcoords": [
           {
            "line": {
             "colorbar": {
              "outlinewidth": 0,
              "ticks": ""
             }
            },
            "type": "parcoords"
           }
          ],
          "pie": [
           {
            "automargin": true,
            "type": "pie"
           }
          ],
          "scatter": [
           {
            "fillpattern": {
             "fillmode": "overlay",
             "size": 10,
             "solidity": 0.2
            },
            "type": "scatter"
           }
          ],
          "scatter3d": [
           {
            "line": {
             "colorbar": {
              "outlinewidth": 0,
              "ticks": ""
             }
            },
            "marker": {
             "colorbar": {
              "outlinewidth": 0,
              "ticks": ""
             }
            },
            "type": "scatter3d"
           }
          ],
          "scattercarpet": [
           {
            "marker": {
             "colorbar": {
              "outlinewidth": 0,
              "ticks": ""
             }
            },
            "type": "scattercarpet"
           }
          ],
          "scattergeo": [
           {
            "marker": {
             "colorbar": {
              "outlinewidth": 0,
              "ticks": ""
             }
            },
            "type": "scattergeo"
           }
          ],
          "scattergl": [
           {
            "marker": {
             "colorbar": {
              "outlinewidth": 0,
              "ticks": ""
             }
            },
            "type": "scattergl"
           }
          ],
          "scattermapbox": [
           {
            "marker": {
             "colorbar": {
              "outlinewidth": 0,
              "ticks": ""
             }
            },
            "type": "scattermapbox"
           }
          ],
          "scatterpolar": [
           {
            "marker": {
             "colorbar": {
              "outlinewidth": 0,
              "ticks": ""
             }
            },
            "type": "scatterpolar"
           }
          ],
          "scatterpolargl": [
           {
            "marker": {
             "colorbar": {
              "outlinewidth": 0,
              "ticks": ""
             }
            },
            "type": "scatterpolargl"
           }
          ],
          "scatterternary": [
           {
            "marker": {
             "colorbar": {
              "outlinewidth": 0,
              "ticks": ""
             }
            },
            "type": "scatterternary"
           }
          ],
          "surface": [
           {
            "colorbar": {
             "outlinewidth": 0,
             "ticks": ""
            },
            "colorscale": [
             [
              0,
              "#0d0887"
             ],
             [
              0.1111111111111111,
              "#46039f"
             ],
             [
              0.2222222222222222,
              "#7201a8"
             ],
             [
              0.3333333333333333,
              "#9c179e"
             ],
             [
              0.4444444444444444,
              "#bd3786"
             ],
             [
              0.5555555555555556,
              "#d8576b"
             ],
             [
              0.6666666666666666,
              "#ed7953"
             ],
             [
              0.7777777777777778,
              "#fb9f3a"
             ],
             [
              0.8888888888888888,
              "#fdca26"
             ],
             [
              1,
              "#f0f921"
             ]
            ],
            "type": "surface"
           }
          ],
          "table": [
           {
            "cells": {
             "fill": {
              "color": "#EBF0F8"
             },
             "line": {
              "color": "white"
             }
            },
            "header": {
             "fill": {
              "color": "#C8D4E3"
             },
             "line": {
              "color": "white"
             }
            },
            "type": "table"
           }
          ]
         },
         "layout": {
          "annotationdefaults": {
           "arrowcolor": "#2a3f5f",
           "arrowhead": 0,
           "arrowwidth": 1
          },
          "autotypenumbers": "strict",
          "coloraxis": {
           "colorbar": {
            "outlinewidth": 0,
            "ticks": ""
           }
          },
          "colorscale": {
           "diverging": [
            [
             0,
             "#8e0152"
            ],
            [
             0.1,
             "#c51b7d"
            ],
            [
             0.2,
             "#de77ae"
            ],
            [
             0.3,
             "#f1b6da"
            ],
            [
             0.4,
             "#fde0ef"
            ],
            [
             0.5,
             "#f7f7f7"
            ],
            [
             0.6,
             "#e6f5d0"
            ],
            [
             0.7,
             "#b8e186"
            ],
            [
             0.8,
             "#7fbc41"
            ],
            [
             0.9,
             "#4d9221"
            ],
            [
             1,
             "#276419"
            ]
           ],
           "sequential": [
            [
             0,
             "#0d0887"
            ],
            [
             0.1111111111111111,
             "#46039f"
            ],
            [
             0.2222222222222222,
             "#7201a8"
            ],
            [
             0.3333333333333333,
             "#9c179e"
            ],
            [
             0.4444444444444444,
             "#bd3786"
            ],
            [
             0.5555555555555556,
             "#d8576b"
            ],
            [
             0.6666666666666666,
             "#ed7953"
            ],
            [
             0.7777777777777778,
             "#fb9f3a"
            ],
            [
             0.8888888888888888,
             "#fdca26"
            ],
            [
             1,
             "#f0f921"
            ]
           ],
           "sequentialminus": [
            [
             0,
             "#0d0887"
            ],
            [
             0.1111111111111111,
             "#46039f"
            ],
            [
             0.2222222222222222,
             "#7201a8"
            ],
            [
             0.3333333333333333,
             "#9c179e"
            ],
            [
             0.4444444444444444,
             "#bd3786"
            ],
            [
             0.5555555555555556,
             "#d8576b"
            ],
            [
             0.6666666666666666,
             "#ed7953"
            ],
            [
             0.7777777777777778,
             "#fb9f3a"
            ],
            [
             0.8888888888888888,
             "#fdca26"
            ],
            [
             1,
             "#f0f921"
            ]
           ]
          },
          "colorway": [
           "#636efa",
           "#EF553B",
           "#00cc96",
           "#ab63fa",
           "#FFA15A",
           "#19d3f3",
           "#FF6692",
           "#B6E880",
           "#FF97FF",
           "#FECB52"
          ],
          "font": {
           "color": "#2a3f5f"
          },
          "geo": {
           "bgcolor": "white",
           "lakecolor": "white",
           "landcolor": "#E5ECF6",
           "showlakes": true,
           "showland": true,
           "subunitcolor": "white"
          },
          "hoverlabel": {
           "align": "left"
          },
          "hovermode": "closest",
          "mapbox": {
           "style": "light"
          },
          "paper_bgcolor": "white",
          "plot_bgcolor": "#E5ECF6",
          "polar": {
           "angularaxis": {
            "gridcolor": "white",
            "linecolor": "white",
            "ticks": ""
           },
           "bgcolor": "#E5ECF6",
           "radialaxis": {
            "gridcolor": "white",
            "linecolor": "white",
            "ticks": ""
           }
          },
          "scene": {
           "xaxis": {
            "backgroundcolor": "#E5ECF6",
            "gridcolor": "white",
            "gridwidth": 2,
            "linecolor": "white",
            "showbackground": true,
            "ticks": "",
            "zerolinecolor": "white"
           },
           "yaxis": {
            "backgroundcolor": "#E5ECF6",
            "gridcolor": "white",
            "gridwidth": 2,
            "linecolor": "white",
            "showbackground": true,
            "ticks": "",
            "zerolinecolor": "white"
           },
           "zaxis": {
            "backgroundcolor": "#E5ECF6",
            "gridcolor": "white",
            "gridwidth": 2,
            "linecolor": "white",
            "showbackground": true,
            "ticks": "",
            "zerolinecolor": "white"
           }
          },
          "shapedefaults": {
           "line": {
            "color": "#2a3f5f"
           }
          },
          "ternary": {
           "aaxis": {
            "gridcolor": "white",
            "linecolor": "white",
            "ticks": ""
           },
           "baxis": {
            "gridcolor": "white",
            "linecolor": "white",
            "ticks": ""
           },
           "bgcolor": "#E5ECF6",
           "caxis": {
            "gridcolor": "white",
            "linecolor": "white",
            "ticks": ""
           }
          },
          "title": {
           "x": 0.05
          },
          "xaxis": {
           "automargin": true,
           "gridcolor": "white",
           "linecolor": "white",
           "ticks": "",
           "title": {
            "standoff": 15
           },
           "zerolinecolor": "white",
           "zerolinewidth": 2
          },
          "yaxis": {
           "automargin": true,
           "gridcolor": "white",
           "linecolor": "white",
           "ticks": "",
           "title": {
            "standoff": 15
           },
           "zerolinecolor": "white",
           "zerolinewidth": 2
          }
         }
        },
        "xaxis": {
         "anchor": "y",
         "autorange": true,
         "domain": [
          0,
          1
         ],
         "range": [
          -13.969465648854962,
          13.969465648854962
         ],
         "title": {
          "text": "days"
         },
         "type": "linear"
        },
        "yaxis": {
         "anchor": "x",
         "autorange": true,
         "domain": [
          0,
          1
         ],
         "range": [
          -0.1548556430446194,
          2.1548556430446193
         ],
         "title": {
          "text": "value"
         },
         "type": "category"
        }
       }
      },
      "image/png": "[encoded data removed]",
      "text/html": [
       "<div>                            <div id=\"3cfc2a4e-09ce-4feb-8acb-28e45efd13aa\" class=\"plotly-graph-div\" style=\"height:525px; width:100%;\"></div>            <script type=\"text/javascript\">                require([\"plotly\"], function(Plotly) {                    window.PLOTLYENV=window.PLOTLYENV || {};                                    if (document.getElementById(\"3cfc2a4e-09ce-4feb-8acb-28e45efd13aa\")) {                    Plotly.newPlot(                        \"3cfc2a4e-09ce-4feb-8acb-28e45efd13aa\",                        [{\"hovertemplate\":\"variable=fileID<br>days=%{x}<br>value=%{y}<extra></extra>\",\"legendgroup\":\"fileID\",\"marker\":{\"color\":\"#636efa\",\"symbol\":\"circle\"},\"mode\":\"markers\",\"name\":\"fileID\",\"orientation\":\"v\",\"showlegend\":true,\"x\":[-12,0,12],\"xaxis\":\"x\",\"y\":[\"S1A_IW_SLC__1SDV_20160405T152456_20160405T152523_010688_00FEEC_83E1-SLC\",\"S1A_IW_SLC__1SDV_20160417T152456_20160417T152523_010863_010427_F968-SLC\",\"S1A_IW_SLC__1SDV_20160429T152457_20160429T152524_011038_0109A3_C646-SLC\"],\"yaxis\":\"y\",\"type\":\"scatter\"}],                        {\"template\":{\"data\":{\"histogram2dcontour\":[{\"type\":\"histogram2dcontour\",\"colorbar\":{\"outlinewidth\":0,\"ticks\":\"\"},\"colorscale\":[[0.0,\"#0d0887\"],[0.1111111111111111,\"#46039f\"],[0.2222222222222222,\"#7201a8\"],[0.3333333333333333,\"#9c179e\"],[0.4444444444444444,\"#bd3786\"],[0.5555555555555556,\"#d8576b\"],[0.6666666666666666,\"#ed7953\"],[0.7777777777777778,\"#fb9f3a\"],[0.8888888888888888,\"#fdca26\"],[1.0,\"#f0f921\"]]}],\"choropleth\":[{\"type\":\"choropleth\",\"colorbar\":{\"outlinewidth\":0,\"ticks\":\"\"}}],\"histogram2d\":[{\"type\":\"histogram2d\",\"colorbar\":{\"outlinewidth\":0,\"ticks\":\"\"},\"colorscale\":[[0.0,\"#0d0887\"],[0.1111111111111111,\"#46039f\"],[0.2222222222222222,\"#7201a8\"],[0.3333333333333333,\"#9c179e\"],[0.4444444444444444,\"#bd3786\"],[0.5555555555555556,\"#d8576b\"],[0.6666666666666666,\"#ed7953\"],[0.7777777777777778,\"#fb9f3a\"],[0.8888888888888888,\"#fdca26\"],[1.0,\"#f0f921\"]]}],\"heatmap\":[{\"type\":\"heatmap\",\"colorbar\":{\"outlinewidth\":0,\"ticks\":\"\"},\"colorscale\":[[0.0,\"#0d0887\"],[0.1111111111111111,\"#46039f\"],[0.2222222222222222,\"#7201a8\"],[0.3333333333333333,\"#9c179e\"],[0.4444444444444444,\"#bd3786\"],[0.5555555555555556,\"#d8576b\"],[0.6666666666666666,\"#ed7953\"],[0.7777777777777778,\"#fb9f3a\"],[0.8888888888888888,\"#fdca26\"],[1.0,\"#f0f921\"]]}],\"heatmapgl\":[{\"type\":\"heatmapgl\",\"colorbar\":{\"outlinewidth\":0,\"ticks\":\"\"},\"colorscale\":[[0.0,\"#0d0887\"],[0.1111111111111111,\"#46039f\"],[0.2222222222222222,\"#7201a8\"],[0.3333333333333333,\"#9c179e\"],[0.4444444444444444,\"#bd3786\"],[0.5555555555555556,\"#d8576b\"],[0.6666666666666666,\"#ed7953\"],[0.7777777777777778,\"#fb9f3a\"],[0.8888888888888888,\"#fdca26\"],[1.0,\"#f0f921\"]]}],\"contourcarpet\":[{\"type\":\"contourcarpet\",\"colorbar\":{\"outlinewidth\":0,\"ticks\":\"\"}}],\"contour\":[{\"type\":\"contour\",\"colorbar\":{\"outlinewidth\":0,\"ticks\":\"\"},\"colorscale\":[[0.0,\"#0d0887\"],[0.1111111111111111,\"#46039f\"],[0.2222222222222222,\"#7201a8\"],[0.3333333333333333,\"#9c179e\"],[0.4444444444444444,\"#bd3786\"],[0.5555555555555556,\"#d8576b\"],[0.6666666666666666,\"#ed7953\"],[0.7777777777777778,\"#fb9f3a\"],[0.8888888888888888,\"#fdca26\"],[1.0,\"#f0f921\"]]}],\"surface\":[{\"type\":\"surface\",\"colorbar\":{\"outlinewidth\":0,\"ticks\":\"\"},\"colorscale\":[[0.0,\"#0d0887\"],[0.1111111111111111,\"#46039f\"],[0.2222222222222222,\"#7201a8\"],[0.3333333333333333,\"#9c179e\"],[0.4444444444444444,\"#bd3786\"],[0.5555555555555556,\"#d8576b\"],[0.6666666666666666,\"#ed7953\"],[0.7777777777777778,\"#fb9f3a\"],[0.8888888888888888,\"#fdca26\"],[1.0,\"#f0f921\"]]}],\"mesh3d\":[{\"type\":\"mesh3d\",\"colorbar\":{\"outlinewidth\":0,\"ticks\":\"\"}}],\"scatter\":[{\"fillpattern\":{\"fillmode\":\"overlay\",\"size\":10,\"solidity\":0.2},\"type\":\"scatter\"}],\"parcoords\":[{\"type\":\"parcoords\",\"line\":{\"colorbar\":{\"outlinewidth\":0,\"ticks\":\"\"}}}],\"scatterpolargl\":[{\"type\":\"scatterpolargl\",\"marker\":{\"colorbar\":{\"outlinewidth\":0,\"ticks\":\"\"}}}],\"bar\":[{\"error_x\":{\"color\":\"#2a3f5f\"},\"error_y\":{\"color\":\"#2a3f5f\"},\"marker\":{\"line\":{\"color\":\"#E5ECF6\",\"width\":0.5},\"pattern\":{\"fillmode\":\"overlay\",\"size\":10,\"solidity\":0.2}},\"type\":\"bar\"}],\"scattergeo\":[{\"type\":\"scattergeo\",\"marker\":{\"colorbar\":{\"outlinewidth\":0,\"ticks\":\"\"}}}],\"scatterpolar\":[{\"type\":\"scatterpolar\",\"marker\":{\"colorbar\":{\"outlinewidth\":0,\"ticks\":\"\"}}}],\"histogram\":[{\"marker\":{\"pattern\":{\"fillmode\":\"overlay\",\"size\":10,\"solidity\":0.2}},\"type\":\"histogram\"}],\"scattergl\":[{\"type\":\"scattergl\",\"marker\":{\"colorbar\":{\"outlinewidth\":0,\"ticks\":\"\"}}}],\"scatter3d\":[{\"type\":\"scatter3d\",\"line\":{\"colorbar\":{\"outlinewidth\":0,\"ticks\":\"\"}},\"marker\":{\"colorbar\":{\"outlinewidth\":0,\"ticks\":\"\"}}}],\"scattermapbox\":[{\"type\":\"scattermapbox\",\"marker\":{\"colorbar\":{\"outlinewidth\":0,\"ticks\":\"\"}}}],\"scatterternary\":[{\"type\":\"scatterternary\",\"marker\":{\"colorbar\":{\"outlinewidth\":0,\"ticks\":\"\"}}}],\"scattercarpet\":[{\"type\":\"scattercarpet\",\"marker\":{\"colorbar\":{\"outlinewidth\":0,\"ticks\":\"\"}}}],\"carpet\":[{\"aaxis\":{\"endlinecolor\":\"#2a3f5f\",\"gridcolor\":\"white\",\"linecolor\":\"white\",\"minorgridcolor\":\"white\",\"startlinecolor\":\"#2a3f5f\"},\"baxis\":{\"endlinecolor\":\"#2a3f5f\",\"gridcolor\":\"white\",\"linecolor\":\"white\",\"minorgridcolor\":\"white\",\"startlinecolor\":\"#2a3f5f\"},\"type\":\"carpet\"}],\"table\":[{\"cells\":{\"fill\":{\"color\":\"#EBF0F8\"},\"line\":{\"color\":\"white\"}},\"header\":{\"fill\":{\"color\":\"#C8D4E3\"},\"line\":{\"color\":\"white\"}},\"type\":\"table\"}],\"barpolar\":[{\"marker\":{\"line\":{\"color\":\"#E5ECF6\",\"width\":0.5},\"pattern\":{\"fillmode\":\"overlay\",\"size\":10,\"solidity\":0.2}},\"type\":\"barpolar\"}],\"pie\":[{\"automargin\":true,\"type\":\"pie\"}]},\"layout\":{\"autotypenumbers\":\"strict\",\"colorway\":[\"#636efa\",\"#EF553B\",\"#00cc96\",\"#ab63fa\",\"#FFA15A\",\"#19d3f3\",\"#FF6692\",\"#B6E880\",\"#FF97FF\",\"#FECB52\"],\"font\":{\"color\":\"#2a3f5f\"},\"hovermode\":\"closest\",\"hoverlabel\":{\"align\":\"left\"},\"paper_bgcolor\":\"white\",\"plot_bgcolor\":\"#E5ECF6\",\"polar\":{\"bgcolor\":\"#E5ECF6\",\"angularaxis\":{\"gridcolor\":\"white\",\"linecolor\":\"white\",\"ticks\":\"\"},\"radialaxis\":{\"gridcolor\":\"white\",\"linecolor\":\"white\",\"ticks\":\"\"}},\"ternary\":{\"bgcolor\":\"#E5ECF6\",\"aaxis\":{\"gridcolor\":\"white\",\"linecolor\":\"white\",\"ticks\":\"\"},\"baxis\":{\"gridcolor\":\"white\",\"linecolor\":\"white\",\"ticks\":\"\"},\"caxis\":{\"gridcolor\":\"white\",\"linecolor\":\"white\",\"ticks\":\"\"}},\"coloraxis\":{\"colorbar\":{\"outlinewidth\":0,\"ticks\":\"\"}},\"colorscale\":{\"sequential\":[[0.0,\"#0d0887\"],[0.1111111111111111,\"#46039f\"],[0.2222222222222222,\"#7201a8\"],[0.3333333333333333,\"#9c179e\"],[0.4444444444444444,\"#bd3786\"],[0.5555555555555556,\"#d8576b\"],[0.6666666666666666,\"#ed7953\"],[0.7777777777777778,\"#fb9f3a\"],[0.8888888888888888,\"#fdca26\"],[1.0,\"#f0f921\"]],\"sequentialminus\":[[0.0,\"#0d0887\"],[0.1111111111111111,\"#46039f\"],[0.2222222222222222,\"#7201a8\"],[0.3333333333333333,\"#9c179e\"],[0.4444444444444444,\"#bd3786\"],[0.5555555555555556,\"#d8576b\"],[0.6666666666666666,\"#ed7953\"],[0.7777777777777778,\"#fb9f3a\"],[0.8888888888888888,\"#fdca26\"],[1.0,\"#f0f921\"]],\"diverging\":[[0,\"#8e0152\"],[0.1,\"#c51b7d\"],[0.2,\"#de77ae\"],[0.3,\"#f1b6da\"],[0.4,\"#fde0ef\"],[0.5,\"#f7f7f7\"],[0.6,\"#e6f5d0\"],[0.7,\"#b8e186\"],[0.8,\"#7fbc41\"],[0.9,\"#4d9221\"],[1,\"#276419\"]]},\"xaxis\":{\"gridcolor\":\"white\",\"linecolor\":\"white\",\"ticks\":\"\",\"title\":{\"standoff\":15},\"zerolinecolor\":\"white\",\"automargin\":true,\"zerolinewidth\":2},\"yaxis\":{\"gridcolor\":\"white\",\"linecolor\":\"white\",\"ticks\":\"\",\"title\":{\"standoff\":15},\"zerolinecolor\":\"white\",\"automargin\":true,\"zerolinewidth\":2},\"scene\":{\"xaxis\":{\"backgroundcolor\":\"#E5ECF6\",\"gridcolor\":\"white\",\"linecolor\":\"white\",\"showbackground\":true,\"ticks\":\"\",\"zerolinecolor\":\"white\",\"gridwidth\":2},\"yaxis\":{\"backgroundcolor\":\"#E5ECF6\",\"gridcolor\":\"white\",\"linecolor\":\"white\",\"showbackground\":true,\"ticks\":\"\",\"zerolinecolor\":\"white\",\"gridwidth\":2},\"zaxis\":{\"backgroundcolor\":\"#E5ECF6\",\"gridcolor\":\"white\",\"linecolor\":\"white\",\"showbackground\":true,\"ticks\":\"\",\"zerolinecolor\":\"white\",\"gridwidth\":2}},\"shapedefaults\":{\"line\":{\"color\":\"#2a3f5f\"}},\"annotationdefaults\":{\"arrowcolor\":\"#2a3f5f\",\"arrowhead\":0,\"arrowwidth\":1},\"geo\":{\"bgcolor\":\"white\",\"landcolor\":\"#E5ECF6\",\"subunitcolor\":\"white\",\"showland\":true,\"showlakes\":true,\"lakecolor\":\"white\"},\"title\":{\"x\":0.05},\"mapbox\":{\"style\":\"light\"}}},\"xaxis\":{\"anchor\":\"y\",\"domain\":[0.0,1.0],\"title\":{\"text\":\"days\"}},\"yaxis\":{\"anchor\":\"x\",\"domain\":[0.0,1.0],\"title\":{\"text\":\"value\"}},\"legend\":{\"title\":{\"text\":\"variable\"},\"tracegroupgap\":0},\"margin\":{\"t\":60}},                        {\"responsive\": true}                    ).then(function(){\n",
       "                            \n",
       "var gd = document.getElementById('3cfc2a4e-09ce-4feb-8acb-28e45efd13aa');\n",
       "var x = new MutationObserver(function (mutations, observer) {{\n",
       "        var display = window.getComputedStyle(gd).display;\n",
       "        if (!display || display === 'none') {{\n",
       "            console.log([gd, 'removed!']);\n",
       "            Plotly.purge(gd);\n",
       "            observer.disconnect();\n",
       "        }}\n",
       "}});\n",
       "\n",
       "// Listen for the removal of the full notebook cells\n",
       "var notebookContainer = gd.closest('#notebook-container');\n",
       "if (notebookContainer) {{\n",
       "    x.observe(notebookContainer, {childList: true});\n",
       "}}\n",
       "\n",
       "// Listen for the clearing of the current output cell\n",
       "var outputEl = gd.closest('.output');\n",
       "if (outputEl) {{\n",
       "    x.observe(outputEl, {childList: true});\n",
       "}}\n",
       "\n",
       "                        })                };                });            </script>        </div>"
      ]
     },
     "metadata": {},
     "output_type": "display_data"
    }
   ],
   "source": [
    "# Let's plot the temporal baseline of the InSAR pairs 12 days before and 12 days after our reference scene acquisition\n",
    "\n",
    "temp_baselines.loc[-12:12]['fileID'].plot(kind='scatter')"
   ]
  },
  {
   "cell_type": "code",
   "execution_count": 56,
   "id": "6124ca05",
   "metadata": {},
   "outputs": [],
   "source": [
    "# Let's filter the stack for dates that are of interest for our bi-temporal coherence comparison\n",
    "picks = []\n",
    "\n",
    "for i in insar_stack:\n",
    "    \n",
    "    # convert the start time of acquisition (string) into a pandas datetime\n",
    "    start = pd.to_datetime(i.properties['startTime'])\n",
    "    \n",
    "    # retrieve the temporal baseline from the search result properties\n",
    "    tempBaseline = i.properties['temporalBaseline']\n",
    "    \n",
    "    # We need a secondary scene representing our \"event\" period of Sep-Oct, 2016\n",
    "    # Let's pick an secondary image that was roughly 8 week after our August 21, 2016 reference image\n",
    "    if 1 < tempBaseline < 13:\n",
    "        picks.append(i)\n",
    "\n",
    "    # Now we need an interferogram with a similar temporal baseline to our\n",
    "    # event period, which is about nine weeks from the reference image.\n",
    "    if -13 < tempBaseline < -1:\n",
    "        picks.append(i)"
   ]
  },
  {
   "cell_type": "code",
   "execution_count": 69,
   "id": "e675bf73",
   "metadata": {},
   "outputs": [
    {
     "name": "stdout",
     "output_type": "stream",
     "text": [
      "S1A_IW_SLC__1SDV_20160405T152456_20160405T152523_010688_00FEEC_83E1-SLC \n",
      "  temporal baseline:  -12  days \n",
      " perpendicular baseline:  31  meters\n",
      "S1A_IW_SLC__1SDV_20160429T152457_20160429T152524_011038_0109A3_C646-SLC \n",
      "  temporal baseline:  12  days \n",
      " perpendicular baseline:  10  meters\n"
     ]
    }
   ],
   "source": [
    "# Make sure these are the right picks by checking fileID and temporal baseline\n",
    "for i in picks:\n",
    "    print(i.properties['fileID'], '\\n', ' temporal baseline: ', i.properties['temporalBaseline'], ' days',\n",
    "          '\\n', 'perpendicular baseline: ', i.properties['perpendicularBaseline'], ' meters')"
   ]
  },
  {
   "cell_type": "code",
   "execution_count": 70,
   "id": "91b97812",
   "metadata": {},
   "outputs": [
    {
     "data": {
      "text/html": [
       "<div style=\"width:100%;\"><div style=\"position:relative;width:100%;height:0;padding-bottom:60%;\"><span style=\"color:#565656\">Make this Notebook Trusted to load map: File -> Trust Notebook</span><iframe srcdoc=\"&lt;!DOCTYPE html&gt;\n",
       "&lt;head&gt;    \n",
       "    &lt;meta http-equiv=&quot;content-type&quot; content=&quot;text/html; charset=UTF-8&quot; /&gt;\n",
       "    \n",
       "        &lt;script&gt;\n",
       "            L_NO_TOUCH = false;\n",
       "            L_DISABLE_3D = false;\n",
       "        &lt;/script&gt;\n",
       "    \n",
       "    &lt;style&gt;html, body {width: 100%;height: 100%;margin: 0;padding: 0;}&lt;/style&gt;\n",
       "    &lt;style&gt;#map {position:absolute;top:0;bottom:0;right:0;left:0;}&lt;/style&gt;\n",
       "    &lt;script src=&quot;https://cdn.jsdelivr.net/npm/leaflet@1.6.0/dist/leaflet.js&quot;&gt;&lt;/script&gt;\n",
       "    &lt;script src=&quot;https://code.jquery.com/jquery-1.12.4.min.js&quot;&gt;&lt;/script&gt;\n",
       "    &lt;script src=&quot;https://maxcdn.bootstrapcdn.com/bootstrap/3.2.0/js/bootstrap.min.js&quot;&gt;&lt;/script&gt;\n",
       "    &lt;script src=&quot;https://cdnjs.cloudflare.com/ajax/libs/Leaflet.awesome-markers/2.0.2/leaflet.awesome-markers.js&quot;&gt;&lt;/script&gt;\n",
       "    &lt;link rel=&quot;stylesheet&quot; href=&quot;https://cdn.jsdelivr.net/npm/leaflet@1.6.0/dist/leaflet.css&quot;/&gt;\n",
       "    &lt;link rel=&quot;stylesheet&quot; href=&quot;https://maxcdn.bootstrapcdn.com/bootstrap/3.2.0/css/bootstrap.min.css&quot;/&gt;\n",
       "    &lt;link rel=&quot;stylesheet&quot; href=&quot;https://maxcdn.bootstrapcdn.com/bootstrap/3.2.0/css/bootstrap-theme.min.css&quot;/&gt;\n",
       "    &lt;link rel=&quot;stylesheet&quot; href=&quot;https://maxcdn.bootstrapcdn.com/font-awesome/4.6.3/css/font-awesome.min.css&quot;/&gt;\n",
       "    &lt;link rel=&quot;stylesheet&quot; href=&quot;https://cdnjs.cloudflare.com/ajax/libs/Leaflet.awesome-markers/2.0.2/leaflet.awesome-markers.css&quot;/&gt;\n",
       "    &lt;link rel=&quot;stylesheet&quot; href=&quot;https://cdn.jsdelivr.net/gh/python-visualization/folium/folium/templates/leaflet.awesome.rotate.min.css&quot;/&gt;\n",
       "    \n",
       "            &lt;meta name=&quot;viewport&quot; content=&quot;width=device-width,\n",
       "                initial-scale=1.0, maximum-scale=1.0, user-scalable=no&quot; /&gt;\n",
       "            &lt;style&gt;\n",
       "                #map_e07b05b09aa6696178fa318d85f55fb3 {\n",
       "                    position: relative;\n",
       "                    width: 100.0%;\n",
       "                    height: 100.0%;\n",
       "                    left: 0.0%;\n",
       "                    top: 0.0%;\n",
       "                }\n",
       "            &lt;/style&gt;\n",
       "        \n",
       "    \n",
       "                    &lt;style&gt;\n",
       "                        .foliumtooltip {\n",
       "                            \n",
       "                        }\n",
       "                       .foliumtooltip table{\n",
       "                            margin: auto;\n",
       "                        }\n",
       "                        .foliumtooltip tr{\n",
       "                            text-align: left;\n",
       "                        }\n",
       "                        .foliumtooltip th{\n",
       "                            padding: 2px; padding-right: 8px;\n",
       "                        }\n",
       "                    &lt;/style&gt;\n",
       "            \n",
       "    \n",
       "    &lt;script src=&quot;https://code.jquery.com/ui/1.12.1/jquery-ui.js&quot;&gt;&lt;/script&gt;\n",
       "    &lt;script&gt;$( function() {\n",
       "        $( &quot;.maplegend&quot; ).draggable({\n",
       "            start: function (event, ui) {\n",
       "                $(this).css({\n",
       "                    right: &quot;auto&quot;,\n",
       "                    top: &quot;auto&quot;,\n",
       "                    bottom: &quot;auto&quot;\n",
       "                });\n",
       "            }\n",
       "        });\n",
       "    });\n",
       "    &lt;/script&gt;\n",
       "    &lt;style type=&#x27;text/css&#x27;&gt;\n",
       "      .maplegend {\n",
       "        position: absolute;\n",
       "        z-index:9999;\n",
       "        background-color: rgba(255, 255, 255, .8);\n",
       "        border-radius: 5px;\n",
       "        box-shadow: 0 0 15px rgba(0,0,0,0.2);\n",
       "        padding: 10px;\n",
       "        font: 12px/14px Arial, Helvetica, sans-serif;\n",
       "        right: 10px;\n",
       "        bottom: 20px;\n",
       "      }\n",
       "      .maplegend .legend-title {\n",
       "        text-align: left;\n",
       "        margin-bottom: 5px;\n",
       "        font-weight: bold;\n",
       "        }\n",
       "      .maplegend .legend-scale ul {\n",
       "        margin: 0;\n",
       "        margin-bottom: 0px;\n",
       "        padding: 0;\n",
       "        float: left;\n",
       "        list-style: none;\n",
       "        }\n",
       "      .maplegend .legend-scale ul li {\n",
       "        list-style: none;\n",
       "        margin-left: 0;\n",
       "        line-height: 16px;\n",
       "        margin-bottom: 2px;\n",
       "        }\n",
       "      .maplegend ul.legend-labels li span {\n",
       "        display: block;\n",
       "        float: left;\n",
       "        height: 14px;\n",
       "        width: 14px;\n",
       "        margin-right: 5px;\n",
       "        margin-left: 0;\n",
       "        border: 0px solid #ccc;\n",
       "        }\n",
       "      .maplegend .legend-source {\n",
       "        color: #777;\n",
       "        clear: both;\n",
       "        }\n",
       "      .maplegend a {\n",
       "        color: #777;\n",
       "        }\n",
       "    &lt;/style&gt;\n",
       "    \n",
       "&lt;/head&gt;\n",
       "&lt;body&gt;    \n",
       "    \n",
       "    &lt;div id=&#x27;maplegend fileID&#x27; class=&#x27;maplegend&#x27;&gt;\n",
       "        &lt;div class=&#x27;legend-title&#x27;&gt;fileID&lt;/div&gt;\n",
       "        &lt;div class=&#x27;legend-scale&#x27;&gt;\n",
       "            &lt;ul class=&#x27;legend-labels&#x27;&gt;\n",
       "                &lt;li&gt;&lt;span style=&#x27;background:#1f77b4&#x27;&gt;&lt;/span&gt;S1A_IW_SLC__1SDV_20160405T152456_20160405T152523_010688_00FEEC_83E1-SLC&lt;/li&gt;\n",
       "                &lt;li&gt;&lt;span style=&#x27;background:#9edae5&#x27;&gt;&lt;/span&gt;S1A_IW_SLC__1SDV_20160429T152457_20160429T152524_011038_0109A3_C646-SLC&lt;/li&gt;\n",
       "            &lt;/ul&gt;\n",
       "        &lt;/div&gt;\n",
       "    &lt;/div&gt;\n",
       "    \n",
       "    \n",
       "            &lt;div class=&quot;folium-map&quot; id=&quot;map_e07b05b09aa6696178fa318d85f55fb3&quot; &gt;&lt;/div&gt;\n",
       "        \n",
       "&lt;/body&gt;\n",
       "&lt;script&gt;    \n",
       "    \n",
       "            var map_e07b05b09aa6696178fa318d85f55fb3 = L.map(\n",
       "                &quot;map_e07b05b09aa6696178fa318d85f55fb3&quot;,\n",
       "                {\n",
       "                    center: [36.207522, 37.154076],\n",
       "                    crs: L.CRS.EPSG3857,\n",
       "                    zoom: 7,\n",
       "                    zoomControl: true,\n",
       "                    preferCanvas: false,\n",
       "                }\n",
       "            );\n",
       "\n",
       "            \n",
       "\n",
       "        \n",
       "    \n",
       "            var tile_layer_bdc60ac8a47f609720646928df8a6188 = L.tileLayer(\n",
       "                &quot;https://cartodb-basemaps-{s}.global.ssl.fastly.net/light_all/{z}/{x}/{y}.png&quot;,\n",
       "                {&quot;attribution&quot;: &quot;\\u0026copy; \\u003ca href=\\&quot;http://www.openstreetmap.org/copyright\\&quot;\\u003eOpenStreetMap\\u003c/a\\u003e contributors \\u0026copy; \\u003ca href=\\&quot;http://cartodb.com/attributions\\&quot;\\u003eCartoDB\\u003c/a\\u003e, CartoDB \\u003ca href =\\&quot;http://cartodb.com/attributions\\&quot;\\u003eattributions\\u003c/a\\u003e&quot;, &quot;detectRetina&quot;: false, &quot;maxNativeZoom&quot;: 18, &quot;maxZoom&quot;: 18, &quot;minZoom&quot;: 0, &quot;noWrap&quot;: false, &quot;opacity&quot;: 1, &quot;subdomains&quot;: &quot;abc&quot;, &quot;tms&quot;: false}\n",
       "            ).addTo(map_e07b05b09aa6696178fa318d85f55fb3);\n",
       "        \n",
       "    \n",
       "\n",
       "        function geo_json_3753eba716127d0b54c6ce901e156edf_onEachFeature(feature, layer) {\n",
       "            layer.on({\n",
       "            });\n",
       "        };\n",
       "        var geo_json_3753eba716127d0b54c6ce901e156edf = L.geoJson(null, {\n",
       "                onEachFeature: geo_json_3753eba716127d0b54c6ce901e156edf_onEachFeature,\n",
       "            \n",
       "        });\n",
       "\n",
       "        function geo_json_3753eba716127d0b54c6ce901e156edf_add (data) {\n",
       "            geo_json_3753eba716127d0b54c6ce901e156edf\n",
       "                .addData(data)\n",
       "                .addTo(map_e07b05b09aa6696178fa318d85f55fb3);\n",
       "        }\n",
       "            geo_json_3753eba716127d0b54c6ce901e156edf_add({&quot;bbox&quot;: [37.0072, 36.091, 37.3326, 36.3183], &quot;features&quot;: [{&quot;bbox&quot;: [37.0072, 36.091, 37.3326, 36.3183], &quot;geometry&quot;: {&quot;coordinates&quot;: [[[37.0072, 36.091], [37.3326, 36.091], [37.3326, 36.3183], [37.0072, 36.3183], [37.0072, 36.091]]], &quot;type&quot;: &quot;Polygon&quot;}, &quot;id&quot;: &quot;0&quot;, &quot;properties&quot;: {}, &quot;type&quot;: &quot;Feature&quot;}], &quot;type&quot;: &quot;FeatureCollection&quot;});\n",
       "\n",
       "        \n",
       "    \n",
       "        function geo_json_d4134911e9430742ffe4bd2693cca12f_styler(feature) {\n",
       "            switch(feature.id) {\n",
       "                case &quot;0&quot;: \n",
       "                    return {&quot;color&quot;: &quot;#1f77b4&quot;, &quot;fill&quot;: false, &quot;fillColor&quot;: &quot;#1f77b4&quot;, &quot;fillOpacity&quot;: 0.5, &quot;opacity&quot;: 1, &quot;weight&quot;: 2};\n",
       "                default:\n",
       "                    return {&quot;color&quot;: &quot;#9edae5&quot;, &quot;fill&quot;: false, &quot;fillColor&quot;: &quot;#9edae5&quot;, &quot;fillOpacity&quot;: 0.5, &quot;opacity&quot;: 1, &quot;weight&quot;: 2};\n",
       "            }\n",
       "        }\n",
       "        function geo_json_d4134911e9430742ffe4bd2693cca12f_highlighter(feature) {\n",
       "            switch(feature.id) {\n",
       "                default:\n",
       "                    return {&quot;fillOpacity&quot;: 0.75};\n",
       "            }\n",
       "        }\n",
       "        function geo_json_d4134911e9430742ffe4bd2693cca12f_pointToLayer(feature, latlng) {\n",
       "            var opts = {&quot;bubblingMouseEvents&quot;: true, &quot;color&quot;: &quot;#3388ff&quot;, &quot;dashArray&quot;: null, &quot;dashOffset&quot;: null, &quot;fill&quot;: true, &quot;fillColor&quot;: &quot;#3388ff&quot;, &quot;fillOpacity&quot;: 0.2, &quot;fillRule&quot;: &quot;evenodd&quot;, &quot;lineCap&quot;: &quot;round&quot;, &quot;lineJoin&quot;: &quot;round&quot;, &quot;opacity&quot;: 1.0, &quot;radius&quot;: 2, &quot;stroke&quot;: true, &quot;weight&quot;: 3};\n",
       "            \n",
       "            let style = geo_json_d4134911e9430742ffe4bd2693cca12f_styler(feature)\n",
       "            Object.assign(opts, style)\n",
       "            \n",
       "            return new L.CircleMarker(latlng, opts)\n",
       "        }\n",
       "\n",
       "        function geo_json_d4134911e9430742ffe4bd2693cca12f_onEachFeature(feature, layer) {\n",
       "            layer.on({\n",
       "                mouseout: function(e) {\n",
       "                    if(typeof e.target.setStyle === &quot;function&quot;){\n",
       "                        geo_json_d4134911e9430742ffe4bd2693cca12f.resetStyle(e.target);\n",
       "                    }\n",
       "                },\n",
       "                mouseover: function(e) {\n",
       "                    if(typeof e.target.setStyle === &quot;function&quot;){\n",
       "                        const highlightStyle = geo_json_d4134911e9430742ffe4bd2693cca12f_highlighter(e.target.feature)\n",
       "                        e.target.setStyle(highlightStyle);\n",
       "                    }\n",
       "                },\n",
       "            });\n",
       "        };\n",
       "        var geo_json_d4134911e9430742ffe4bd2693cca12f = L.geoJson(null, {\n",
       "                onEachFeature: geo_json_d4134911e9430742ffe4bd2693cca12f_onEachFeature,\n",
       "            \n",
       "                style: geo_json_d4134911e9430742ffe4bd2693cca12f_styler,\n",
       "                pointToLayer: geo_json_d4134911e9430742ffe4bd2693cca12f_pointToLayer\n",
       "        });\n",
       "\n",
       "        function geo_json_d4134911e9430742ffe4bd2693cca12f_add (data) {\n",
       "            geo_json_d4134911e9430742ffe4bd2693cca12f\n",
       "                .addData(data)\n",
       "                .addTo(map_e07b05b09aa6696178fa318d85f55fb3);\n",
       "        }\n",
       "            geo_json_d4134911e9430742ffe4bd2693cca12f_add({&quot;bbox&quot;: [36.870613, 34.912312, 40.01939, 36.935627], &quot;features&quot;: [{&quot;bbox&quot;: [36.870621, 34.912525, 40.01939, 36.935562], &quot;geometry&quot;: {&quot;coordinates&quot;: [[[39.692051, 36.935562], [40.01939, 35.315132], [37.257534, 34.912525], [36.870621, 36.534622], [39.692051, 36.935562]]], &quot;type&quot;: &quot;Polygon&quot;}, &quot;id&quot;: &quot;0&quot;, &quot;properties&quot;: {&quot;__folium_color&quot;: &quot;#1f77b4&quot;, &quot;fileID&quot;: &quot;S1A_IW_SLC__1SDV_20160405T152456_20160405T152523_010688_00FEEC_83E1-SLC&quot;}, &quot;type&quot;: &quot;Feature&quot;}, {&quot;bbox&quot;: [36.870613, 34.912312, 40.01931, 36.935627], &quot;geometry&quot;: {&quot;coordinates&quot;: [[[39.691868, 36.935627], [40.01931, 35.314949], [37.257637, 34.912312], [36.870613, 36.534657], [39.691868, 36.935627]]], &quot;type&quot;: &quot;Polygon&quot;}, &quot;id&quot;: &quot;1&quot;, &quot;properties&quot;: {&quot;__folium_color&quot;: &quot;#9edae5&quot;, &quot;fileID&quot;: &quot;S1A_IW_SLC__1SDV_20160429T152457_20160429T152524_011038_0109A3_C646-SLC&quot;}, &quot;type&quot;: &quot;Feature&quot;}], &quot;type&quot;: &quot;FeatureCollection&quot;});\n",
       "\n",
       "        \n",
       "    \n",
       "    geo_json_d4134911e9430742ffe4bd2693cca12f.bindTooltip(\n",
       "    function(layer){\n",
       "    let div = L.DomUtil.create(&#x27;div&#x27;);\n",
       "    \n",
       "    let handleObject = feature=&gt;typeof(feature)==&#x27;object&#x27; ? JSON.stringify(feature) : feature;\n",
       "    let fields = [&quot;fileID&quot;];\n",
       "    let aliases = [&quot;fileID&quot;];\n",
       "    let table = &#x27;&lt;table&gt;&#x27; +\n",
       "        String(\n",
       "        fields.map(\n",
       "        (v,i)=&gt;\n",
       "        `&lt;tr&gt;\n",
       "            &lt;th&gt;${aliases[i]}&lt;/th&gt;\n",
       "            \n",
       "            &lt;td&gt;${handleObject(layer.feature.properties[v])}&lt;/td&gt;\n",
       "        &lt;/tr&gt;`).join(&#x27;&#x27;))\n",
       "    +&#x27;&lt;/table&gt;&#x27;;\n",
       "    div.innerHTML=table;\n",
       "    \n",
       "    return div\n",
       "    }\n",
       "    ,{&quot;className&quot;: &quot;foliumtooltip&quot;, &quot;sticky&quot;: true});\n",
       "                     \n",
       "&lt;/script&gt;\" style=\"position:absolute;width:100%;height:100%;left:0;top:0;border:none !important;\" allowfullscreen webkitallowfullscreen mozallowfullscreen></iframe></div></div>"
      ],
      "text/plain": [
       "<folium.folium.Map at 0x16c3b9390>"
      ]
     },
     "execution_count": 70,
     "metadata": {},
     "output_type": "execute_result"
    }
   ],
   "source": [
    "# Lets plot these on a map and see how they look, making certain we have full coverage over Aleppo\n",
    "\n",
    "stack = gpd.GeoDataFrame(list(map(addFootprint, picks)), \n",
    "                       columns = ['fileID', 'geometry'])\n",
    "\n",
    "mapb = folium.Map([36.207522, 37.154076],\n",
    "                zoom_start=7,\n",
    "                  tiles='cartodbpositron')\n",
    "#Add the geo_json of our are of interest to the map\n",
    "geo_j.add_to(mapb)\n",
    "\n",
    "# Print an interactive map!\n",
    "stack.explore(m = mapb, column = 'fileID',\n",
    "           style_kwds = {'opacity': 1, 'fill': False})"
   ]
  },
  {
   "cell_type": "code",
   "execution_count": 71,
   "id": "d8f66870",
   "metadata": {},
   "outputs": [],
   "source": [
    "#Prepare a list of jobs using the August 21, 2016 scene as a reference\n",
    "jobs = []\n",
    "for i in picks:\n",
    "    \n",
    "    #We have to remove the \"-SLC\" string from the fileID for Hyp3 to understand what granules we want!\n",
    "    jobs.append(hyp3.prepare_insar_job(reference_scene['fileID'].replace('-SLC', \"\"), \n",
    "                       i.properties['fileID'].replace('-SLC', \"\"), \n",
    "                       name='Aleppo', \n",
    "    # Specify 10x2 looks in range and in azimuth to create a 40m horizontal resolution coherence image               \n",
    "                        looks='10x2', \n",
    "    # The rest of the settings are default\n",
    "                       include_look_vectors=False, \n",
    "                       include_los_displacement=False, \n",
    "                       include_inc_map=False, \n",
    "                       include_dem=False, \n",
    "                       include_wrapped_phase=False, \n",
    "                       apply_water_mask=False, \n",
    "                       include_displacement_maps=False))"
   ]
  },
  {
   "cell_type": "code",
   "execution_count": 72,
   "id": "66707bd8",
   "metadata": {
    "tags": []
   },
   "outputs": [
    {
     "data": {
      "text/plain": [
       "[{'job_parameters': {'granules': ['S1A_IW_SLC__1SDV_20160417T152456_20160417T152523_010863_010427_F968',\n",
       "    'S1A_IW_SLC__1SDV_20160405T152456_20160405T152523_010688_00FEEC_83E1'],\n",
       "   'include_look_vectors': False,\n",
       "   'include_los_displacement': False,\n",
       "   'include_inc_map': False,\n",
       "   'looks': '10x2',\n",
       "   'include_dem': False,\n",
       "   'include_wrapped_phase': False,\n",
       "   'apply_water_mask': False,\n",
       "   'include_displacement_maps': False},\n",
       "  'job_type': 'INSAR_GAMMA',\n",
       "  'name': 'Aleppo'},\n",
       " {'job_parameters': {'granules': ['S1A_IW_SLC__1SDV_20160417T152456_20160417T152523_010863_010427_F968',\n",
       "    'S1A_IW_SLC__1SDV_20160429T152457_20160429T152524_011038_0109A3_C646'],\n",
       "   'include_look_vectors': False,\n",
       "   'include_los_displacement': False,\n",
       "   'include_inc_map': False,\n",
       "   'looks': '10x2',\n",
       "   'include_dem': False,\n",
       "   'include_wrapped_phase': False,\n",
       "   'apply_water_mask': False,\n",
       "   'include_displacement_maps': False},\n",
       "  'job_type': 'INSAR_GAMMA',\n",
       "  'name': 'Aleppo'}]"
      ]
     },
     "execution_count": 72,
     "metadata": {},
     "output_type": "execute_result"
    }
   ],
   "source": [
    "# Take a look at the list of job dictionaries and make sure they look OK\n",
    "jobs"
   ]
  },
  {
   "cell_type": "code",
   "execution_count": 697,
   "id": "269b174f",
   "metadata": {
    "tags": []
   },
   "outputs": [],
   "source": [
    "# These jobs look good so we are going to submit the list and create a batch instance!\n",
    "batch = hyp3.submit_prepared_jobs(jobs)"
   ]
  },
  {
   "cell_type": "code",
   "execution_count": 732,
   "id": "dc990820",
   "metadata": {
    "collapsed": true,
    "jupyter": {
     "outputs_hidden": true
    },
    "tags": []
   },
   "outputs": [
    {
     "name": "stderr",
     "output_type": "stream",
     "text": [
      "100%|██████████████████████████████████████████████████████████████████████| 2/2 [timeout in 10800s]\n"
     ]
    },
    {
     "data": {
      "text/plain": [
       "Batch([Job.from_dict({'job_id': 'c453d7cb-a7b2-4f7a-8956-434da06e4b83', 'job_type': 'INSAR_GAMMA', 'request_time': '2022-05-18T15:46:43+00:00', 'status_code': 'SUCCEEDED', 'user_id': 'coreyscher', 'name': 'Aleppo', 'job_parameters': {'apply_water_mask': False, 'granules': ['S1A_IW_SLC__1SDV_20160821T033420_20160821T033447_012693_013F2C_3748', 'S1A_IW_SLC__1SDV_20160610T033416_20160610T033443_011643_011D02_6360'], 'include_dem': False, 'include_displacement_maps': False, 'include_inc_map': False, 'include_look_vectors': False, 'include_los_displacement': False, 'include_wrapped_phase': False, 'looks': '10x2'}, 'files': [{'filename': 'S1AA_20160610T033416_20160821T033420_VVP072_INT40_G_ueF_3D10.zip', 's3': {'bucket': 'hyp3-contentbucket-fo259f6r6dn6', 'key': 'c453d7cb-a7b2-4f7a-8956-434da06e4b83/S1AA_20160610T033416_20160821T033420_VVP072_INT40_G_ueF_3D10.zip'}, 'size': 354831030, 'url': 'https://hyp3-contentbucket-fo259f6r6dn6.s3.us-west-2.amazonaws.com/c453d7cb-a7b2-4f7a-8956-434da06e4b83/S1AA_20160610T033416_20160821T033420_VVP072_INT40_G_ueF_3D10.zip'}], 'logs': [], 'browse_images': ['https://hyp3-contentbucket-fo259f6r6dn6.s3.us-west-2.amazonaws.com/c453d7cb-a7b2-4f7a-8956-434da06e4b83/S1AA_20160610T033416_20160821T033420_VVP072_INT40_G_ueF_3D10_color_phase.png', 'https://hyp3-contentbucket-fo259f6r6dn6.s3.us-west-2.amazonaws.com/c453d7cb-a7b2-4f7a-8956-434da06e4b83/S1AA_20160610T033416_20160821T033420_VVP072_INT40_G_ueF_3D10_unw_phase.png'], 'thumbnail_images': ['https://hyp3-contentbucket-fo259f6r6dn6.s3.us-west-2.amazonaws.com/c453d7cb-a7b2-4f7a-8956-434da06e4b83/S1AA_20160610T033416_20160821T033420_VVP072_INT40_G_ueF_3D10_color_phase_thumb.png', 'https://hyp3-contentbucket-fo259f6r6dn6.s3.us-west-2.amazonaws.com/c453d7cb-a7b2-4f7a-8956-434da06e4b83/S1AA_20160610T033416_20160821T033420_VVP072_INT40_G_ueF_3D10_unw_phase_thumb.png'], 'expiration_time': '2022-06-02T00:00:00+00:00', 'processing_time_in_seconds': 3743.064}), Job.from_dict({'job_id': '33f9247f-35fb-4b2f-a7d7-25a1bfa60fa6', 'job_type': 'INSAR_GAMMA', 'request_time': '2022-05-18T15:46:43+00:00', 'status_code': 'SUCCEEDED', 'user_id': 'coreyscher', 'name': 'Aleppo', 'job_parameters': {'apply_water_mask': False, 'granules': ['S1A_IW_SLC__1SDV_20160821T033420_20160821T033447_012693_013F2C_3748', 'S1B_IW_SLC__1SDV_20161026T033341_20161026T033408_002672_00484D_A9D0'], 'include_dem': False, 'include_displacement_maps': False, 'include_inc_map': False, 'include_look_vectors': False, 'include_los_displacement': False, 'include_wrapped_phase': False, 'looks': '10x2'}, 'files': [{'filename': 'S1AB_20160821T033420_20161026T033341_VVP066_INT40_G_ueF_C851.zip', 's3': {'bucket': 'hyp3-contentbucket-fo259f6r6dn6', 'key': '33f9247f-35fb-4b2f-a7d7-25a1bfa60fa6/S1AB_20160821T033420_20161026T033341_VVP066_INT40_G_ueF_C851.zip'}, 'size': 325262791, 'url': 'https://hyp3-contentbucket-fo259f6r6dn6.s3.us-west-2.amazonaws.com/33f9247f-35fb-4b2f-a7d7-25a1bfa60fa6/S1AB_20160821T033420_20161026T033341_VVP066_INT40_G_ueF_C851.zip'}], 'logs': [], 'browse_images': ['https://hyp3-contentbucket-fo259f6r6dn6.s3.us-west-2.amazonaws.com/33f9247f-35fb-4b2f-a7d7-25a1bfa60fa6/S1AB_20160821T033420_20161026T033341_VVP066_INT40_G_ueF_C851_color_phase.png', 'https://hyp3-contentbucket-fo259f6r6dn6.s3.us-west-2.amazonaws.com/33f9247f-35fb-4b2f-a7d7-25a1bfa60fa6/S1AB_20160821T033420_20161026T033341_VVP066_INT40_G_ueF_C851_unw_phase.png'], 'thumbnail_images': ['https://hyp3-contentbucket-fo259f6r6dn6.s3.us-west-2.amazonaws.com/33f9247f-35fb-4b2f-a7d7-25a1bfa60fa6/S1AB_20160821T033420_20161026T033341_VVP066_INT40_G_ueF_C851_color_phase_thumb.png', 'https://hyp3-contentbucket-fo259f6r6dn6.s3.us-west-2.amazonaws.com/33f9247f-35fb-4b2f-a7d7-25a1bfa60fa6/S1AB_20160821T033420_20161026T033341_VVP066_INT40_G_ueF_C851_unw_phase_thumb.png'], 'expiration_time': '2022-06-02T00:00:00+00:00', 'processing_time_in_seconds': 3426.692})])"
      ]
     },
     "execution_count": 732,
     "metadata": {},
     "output_type": "execute_result"
    }
   ],
   "source": [
    "# Now we can use the .watch() function to see the status of our batch\n",
    "hyp3.watch(batch)"
   ]
  },
  {
   "cell_type": "markdown",
   "id": "29f89b31",
   "metadata": {},
   "source": [
    "### Download and unzip InSAR data"
   ]
  },
  {
   "cell_type": "code",
   "execution_count": 737,
   "id": "eb45783e",
   "metadata": {
    "collapsed": true,
    "jupyter": {
     "outputs_hidden": true
    },
    "tags": []
   },
   "outputs": [
    {
     "name": "stderr",
     "output_type": "stream",
     "text": [
      "  0%|                                                                         | 0/2 [00:00<?, ?it/s]\n",
      "S1AB_20160821T033420_20161026T033341_VVP066_INT40_G_ueF_C851.zip:   0%| | 0/325262791 [00:00<?, ?it/\u001b[A\n",
      "S1AB_20160821T033420_20161026T033341_VVP066_INT40_G_ueF_C851.zip:   3%| | 10.0M/310M [00:12<06:11, 8\u001b[A\n",
      "S1AB_20160821T033420_20161026T033341_VVP066_INT40_G_ueF_C851.zip:   6%| | 20.0M/310M [00:32<08:03, 6\u001b[A\n",
      "S1AB_20160821T033420_20161026T033341_VVP066_INT40_G_ueF_C851.zip:  10%| | 30.0M/310M [00:40<06:02, 8\u001b[A\n",
      "S1AB_20160821T033420_20161026T033341_VVP066_INT40_G_ueF_C851.zip:  13%|▏| 40.0M/310M [01:22<11:03, 4\u001b[A\n",
      "S1AB_20160821T033420_20161026T033341_VVP066_INT40_G_ueF_C851.zip:  16%|▏| 50.0M/310M [01:48<10:49, 4\u001b[A\n",
      "S1AB_20160821T033420_20161026T033341_VVP066_INT40_G_ueF_C851.zip:  19%|▏| 60.0M/310M [02:20<11:20, 3\u001b[A\n",
      "S1AB_20160821T033420_20161026T033341_VVP066_INT40_G_ueF_C851.zip:  23%|▏| 70.0M/310M [02:29<08:35, 4\u001b[A\n",
      "S1AB_20160821T033420_20161026T033341_VVP066_INT40_G_ueF_C851.zip:  26%|▎| 80.0M/310M [02:48<07:57, 5\u001b[A\n",
      "S1AB_20160821T033420_20161026T033341_VVP066_INT40_G_ueF_C851.zip:  29%|▎| 90.0M/310M [03:27<09:35, 4\u001b[A\n",
      "S1AB_20160821T033420_20161026T033341_VVP066_INT40_G_ueF_C851.zip:  32%|▎| 100M/310M [03:43<08:05, 45\u001b[A\n",
      "S1AB_20160821T033420_20161026T033341_VVP066_INT40_G_ueF_C851.zip:  35%|▎| 110M/310M [04:04<07:31, 46\u001b[A\n",
      "S1AB_20160821T033420_20161026T033341_VVP066_INT40_G_ueF_C851.zip:  39%|▍| 120M/310M [04:20<06:28, 51\u001b[A\n",
      "S1AB_20160821T033420_20161026T033341_VVP066_INT40_G_ueF_C851.zip:  42%|▍| 130M/310M [04:22<04:28, 70\u001b[A\n",
      "S1AB_20160821T033420_20161026T033341_VVP066_INT40_G_ueF_C851.zip:  45%|▍| 140M/310M [04:25<03:12, 92\u001b[A\n",
      "S1AB_20160821T033420_20161026T033341_VVP066_INT40_G_ueF_C851.zip:  48%|▍| 150M/310M [04:29<02:26, 1.\u001b[A\n",
      "S1AB_20160821T033420_20161026T033341_VVP066_INT40_G_ueF_C851.zip:  52%|▌| 160M/310M [04:38<02:16, 1.\u001b[A\n",
      "S1AB_20160821T033420_20161026T033341_VVP066_INT40_G_ueF_C851.zip:  55%|▌| 170M/310M [04:53<02:32, 96\u001b[A\n",
      "S1AB_20160821T033420_20161026T033341_VVP066_INT40_G_ueF_C851.zip:  58%|▌| 180M/310M [05:03<02:17, 99\u001b[A\n",
      "S1AB_20160821T033420_20161026T033341_VVP066_INT40_G_ueF_C851.zip:  61%|▌| 190M/310M [05:14<02:09, 97\u001b[A\n",
      "S1AB_20160821T033420_20161026T033341_VVP066_INT40_G_ueF_C851.zip:  64%|▋| 200M/310M [05:25<01:59, 96\u001b[A\n",
      "S1AB_20160821T033420_20161026T033341_VVP066_INT40_G_ueF_C851.zip:  68%|▋| 210M/310M [05:42<02:07, 82\u001b[A\n",
      "S1AB_20160821T033420_20161026T033341_VVP066_INT40_G_ueF_C851.zip:  71%|▋| 220M/310M [05:54<01:52, 83\u001b[A\n",
      "S1AB_20160821T033420_20161026T033341_VVP066_INT40_G_ueF_C851.zip:  74%|▋| 230M/310M [06:14<01:58, 70\u001b[A\n",
      "S1AB_20160821T033420_20161026T033341_VVP066_INT40_G_ueF_C851.zip:  77%|▊| 240M/310M [06:28<01:41, 72\u001b[A\n",
      "S1AB_20160821T033420_20161026T033341_VVP066_INT40_G_ueF_C851.zip:  81%|▊| 250M/310M [06:57<01:54, 55\u001b[A\n",
      "S1AB_20160821T033420_20161026T033341_VVP066_INT40_G_ueF_C851.zip:  84%|▊| 260M/310M [07:17<01:36, 54\u001b[A\n",
      "S1AB_20160821T033420_20161026T033341_VVP066_INT40_G_ueF_C851.zip:  87%|▊| 270M/310M [07:31<01:10, 59\u001b[A\n",
      "S1AB_20160821T033420_20161026T033341_VVP066_INT40_G_ueF_C851.zip:  90%|▉| 280M/310M [07:51<00:55, 57\u001b[A\n",
      "S1AB_20160821T033420_20161026T033341_VVP066_INT40_G_ueF_C851.zip:  93%|▉| 290M/310M [08:19<00:42, 49\u001b[A\n",
      "S1AB_20160821T033420_20161026T033341_VVP066_INT40_G_ueF_C851.zip:  97%|▉| 300M/310M [08:27<00:17, 60\u001b[A\n",
      "S1AB_20160821T033420_20161026T033341_VVP066_INT40_G_ueF_C851.zip: 100%|▉| 310M/310M [08:43<00:00, 62\u001b[A\n",
      "S1AB_20160821T033420_20161026T033341_VVP066_INT40_G_ueF_C851.zip: 100%|█| 310M/310M [08:43<00:00, 62\u001b[A\n",
      "/opt/miniconda3/envs/research/lib/python3.10/site-packages/hyp3_sdk/jobs.py:140: ResourceWarning: unclosed file <_io.BufferedWriter name='/Users/coreyscher/Documents/GitHub/arset/arset/data/S1AB_20160821T033420_20161026T033341_VVP066_INT40_G_ueF_C851.zip'>\n",
      "  downloaded_files.append(download_file(download_url, filename, chunk_size=10485760))\n",
      "ResourceWarning: Enable tracemalloc to get the object allocation traceback\n",
      " 50%|████████████████████████████████                                | 1/2 [08:45<08:45, 525.20s/it]\n",
      "S1AA_20160610T033416_20160821T033420_VVP072_INT40_G_ueF_3D10.zip:   0%| | 0/354831030 [00:00<?, ?it/\u001b[A\n",
      "S1AA_20160610T033416_20160821T033420_VVP072_INT40_G_ueF_3D10.zip:   3%| | 10.0M/338M [00:02<01:09, 4\u001b[A\n",
      "S1AA_20160610T033416_20160821T033420_VVP072_INT40_G_ueF_3D10.zip:   6%| | 20.0M/338M [00:10<03:06, 1\u001b[A\n",
      "S1AA_20160610T033416_20160821T033420_VVP072_INT40_G_ueF_3D10.zip:   9%| | 30.0M/338M [00:55<12:04, 4\u001b[A\n",
      "S1AA_20160610T033416_20160821T033420_VVP072_INT40_G_ueF_3D10.zip:  12%| | 40.0M/338M [01:25<13:00, 4\u001b[A\n",
      "S1AA_20160610T033416_20160821T033420_VVP072_INT40_G_ueF_3D10.zip:  15%|▏| 50.0M/338M [01:47<11:55, 4\u001b[A\n",
      "S1AA_20160610T033416_20160821T033420_VVP072_INT40_G_ueF_3D10.zip:  18%|▏| 60.0M/338M [02:12<11:25, 4\u001b[A\n",
      "S1AA_20160610T033416_20160821T033420_VVP072_INT40_G_ueF_3D10.zip:  21%|▏| 70.0M/338M [02:45<12:21, 3\u001b[A\n",
      "S1AA_20160610T033416_20160821T033420_VVP072_INT40_G_ueF_3D10.zip:  24%|▏| 80.0M/338M [03:07<11:07, 4\u001b[A\n",
      "S1AA_20160610T033416_20160821T033420_VVP072_INT40_G_ueF_3D10.zip:  27%|▎| 90.0M/338M [03:27<09:51, 4\u001b[A\n",
      "S1AA_20160610T033416_20160821T033420_VVP072_INT40_G_ueF_3D10.zip:  30%|▎| 100M/338M [03:34<07:24, 56\u001b[A\n",
      "S1AA_20160610T033416_20160821T033420_VVP072_INT40_G_ueF_3D10.zip:  33%|▎| 110M/338M [03:37<05:15, 75\u001b[A\n",
      "S1AA_20160610T033416_20160821T033420_VVP072_INT40_G_ueF_3D10.zip:  35%|▎| 120M/338M [03:39<03:48, 1.\u001b[A\n",
      "S1AA_20160610T033416_20160821T033420_VVP072_INT40_G_ueF_3D10.zip:  38%|▍| 130M/338M [03:46<03:11, 1.\u001b[A\n",
      "S1AA_20160610T033416_20160821T033420_VVP072_INT40_G_ueF_3D10.zip:  41%|▍| 140M/338M [04:12<04:43, 73\u001b[A\n",
      "S1AA_20160610T033416_20160821T033420_VVP072_INT40_G_ueF_3D10.zip:  44%|▍| 150M/338M [04:34<05:12, 63\u001b[A\n",
      "S1AA_20160610T033416_20160821T033420_VVP072_INT40_G_ueF_3D10.zip:  47%|▍| 160M/338M [05:03<06:06, 51\u001b[A\n",
      "S1AA_20160610T033416_20160821T033420_VVP072_INT40_G_ueF_3D10.zip:  50%|▌| 170M/338M [05:36<06:49, 43\u001b[A\n",
      "S1AA_20160610T033416_20160821T033420_VVP072_INT40_G_ueF_3D10.zip:  53%|▌| 180M/338M [06:08<06:57, 39\u001b[A\n",
      "S1AA_20160610T033416_20160821T033420_VVP072_INT40_G_ueF_3D10.zip:  56%|▌| 190M/338M [06:37<06:45, 38\u001b[A\n",
      "S1AA_20160610T033416_20160821T033420_VVP072_INT40_G_ueF_3D10.zip:  59%|▌| 200M/338M [07:06<06:23, 37\u001b[A\n",
      "S1AA_20160610T033416_20160821T033420_VVP072_INT40_G_ueF_3D10.zip:  62%|▌| 210M/338M [07:27<05:31, 40\u001b[A\n",
      "S1AA_20160610T033416_20160821T033420_VVP072_INT40_G_ueF_3D10.zip:  65%|▋| 220M/338M [07:51<04:57, 41\u001b[A\n",
      "S1AA_20160610T033416_20160821T033420_VVP072_INT40_G_ueF_3D10.zip:  68%|▋| 230M/338M [08:20<04:45, 39\u001b[A\n",
      "S1AA_20160610T033416_20160821T033420_VVP072_INT40_G_ueF_3D10.zip:  71%|▋| 240M/338M [08:41<04:02, 42\u001b[A\n",
      "S1AA_20160610T033416_20160821T033420_VVP072_INT40_G_ueF_3D10.zip:  74%|▋| 250M/338M [09:02<03:28, 44\u001b[A\n",
      "S1AA_20160610T033416_20160821T033420_VVP072_INT40_G_ueF_3D10.zip:  77%|▊| 260M/338M [09:09<02:25, 56\u001b[A\n",
      "S1AA_20160610T033416_20160821T033420_VVP072_INT40_G_ueF_3D10.zip:  80%|▊| 270M/338M [09:17<01:45, 68\u001b[A\n",
      "S1AA_20160610T033416_20160821T033420_VVP072_INT40_G_ueF_3D10.zip:  83%|▊| 280M/338M [09:24<01:15, 81\u001b[A\n",
      "S1AA_20160610T033416_20160821T033420_VVP072_INT40_G_ueF_3D10.zip:  86%|▊| 290M/338M [09:45<01:14, 68\u001b[A\n",
      "S1AA_20160610T033416_20160821T033420_VVP072_INT40_G_ueF_3D10.zip:  89%|▉| 300M/338M [10:14<01:14, 53\u001b[A\n",
      "S1AA_20160610T033416_20160821T033420_VVP072_INT40_G_ueF_3D10.zip:  92%|▉| 310M/338M [10:33<00:55, 53\u001b[A\n",
      "S1AA_20160610T033416_20160821T033420_VVP072_INT40_G_ueF_3D10.zip:  95%|▉| 320M/338M [10:48<00:33, 57\u001b[A\n",
      "S1AA_20160610T033416_20160821T033420_VVP072_INT40_G_ueF_3D10.zip:  98%|▉| 330M/338M [10:57<00:12, 68\u001b[A\n",
      "S1AA_20160610T033416_20160821T033420_VVP072_INT40_G_ueF_3D10.zip: 100%|█| 338M/338M [11:03<00:00, 53\u001b[A\n",
      "/opt/miniconda3/envs/research/lib/python3.10/site-packages/hyp3_sdk/jobs.py:140: ResourceWarning: unclosed file <_io.BufferedWriter name='/Users/coreyscher/Documents/GitHub/arset/arset/data/S1AA_20160610T033416_20160821T033420_VVP072_INT40_G_ueF_3D10.zip'>\n",
      "  downloaded_files.append(download_file(download_url, filename, chunk_size=10485760))\n",
      "ResourceWarning: Enable tracemalloc to get the object allocation traceback\n",
      "100%|████████████████████████████████████████████████████████████████| 2/2 [19:50<00:00, 595.16s/it]\n"
     ]
    },
    {
     "data": {
      "text/plain": [
       "[PosixPath('/Users/coreyscher/Documents/GitHub/arset/arset/data/S1AB_20160821T033420_20161026T033341_VVP066_INT40_G_ueF_C851.zip'),\n",
       " PosixPath('/Users/coreyscher/Documents/GitHub/arset/arset/data/S1AA_20160610T033416_20160821T033420_VVP072_INT40_G_ueF_3D10.zip')]"
      ]
     },
     "execution_count": 737,
     "metadata": {},
     "output_type": "execute_result"
    }
   ],
   "source": [
    "insar_path = '/Users/coreyscher/Documents/GitHub/arset/arset/data/insar'\n",
    "\n",
    "batch.download_files('/Users/coreyscher/Documents/GitHub/arset/arset/data/insar')"
   ]
  }
 ],
 "metadata": {
  "kernelspec": {
   "display_name": "Python 3 (ipykernel)",
   "language": "python",
   "name": "python3"
  },
  "language_info": {
   "codemirror_mode": {
    "name": "ipython",
    "version": 3
   },
   "file_extension": ".py",
   "mimetype": "text/x-python",
   "name": "python",
   "nbconvert_exporter": "python",
   "pygments_lexer": "ipython3",
   "version": "3.10.4"
  }
 },
 "nbformat": 4,
 "nbformat_minor": 5
}
